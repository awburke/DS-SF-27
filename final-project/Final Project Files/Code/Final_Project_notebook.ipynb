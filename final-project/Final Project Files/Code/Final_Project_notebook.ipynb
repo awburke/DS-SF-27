{
 "cells": [
  {
   "cell_type": "markdown",
   "metadata": {},
   "source": [
    "Andrew Burke - Final Project EDA and Model"
   ]
  },
  {
   "cell_type": "code",
   "execution_count": 1,
   "metadata": {
    "collapsed": true
   },
   "outputs": [],
   "source": [
    "import os\n",
    "\n",
    "import numpy as np\n",
    "import pandas as pd\n",
    "pd.set_option('display.max_rows', 10)\n",
    "pd.set_option('display.notebook_repr_html', True)\n",
    "pd.set_option('display.max_columns', 10)\n",
    "\n",
    "from sklearn import linear_model, cross_validation\n",
    "import statsmodels.api as sm\n",
    "import statsmodels.formula.api as smf\n",
    "\n",
    "import matplotlib.pyplot as plt\n",
    "%matplotlib inline\n",
    "plt.style.use('ggplot')"
   ]
  },
  {
   "cell_type": "code",
   "execution_count": 2,
   "metadata": {
    "collapsed": false
   },
   "outputs": [
    {
     "data": {
      "text/html": [
       "<div>\n",
       "<table border=\"1\" class=\"dataframe\">\n",
       "  <thead>\n",
       "    <tr style=\"text-align: right;\">\n",
       "      <th></th>\n",
       "      <th>articles_viewed</th>\n",
       "      <th>streams_added</th>\n",
       "      <th>sessions</th>\n",
       "      <th>greater_than_5_sessions</th>\n",
       "      <th>push_enabled</th>\n",
       "    </tr>\n",
       "    <tr>\n",
       "      <th>user_identities.identity</th>\n",
       "      <th></th>\n",
       "      <th></th>\n",
       "      <th></th>\n",
       "      <th></th>\n",
       "      <th></th>\n",
       "    </tr>\n",
       "  </thead>\n",
       "  <tbody>\n",
       "    <tr>\n",
       "      <th>4.32E+17</th>\n",
       "      <td>1</td>\n",
       "      <td>1</td>\n",
       "      <td>1</td>\n",
       "      <td>0</td>\n",
       "      <td>0</td>\n",
       "    </tr>\n",
       "    <tr>\n",
       "      <th>2.39E+18</th>\n",
       "      <td>1</td>\n",
       "      <td>5</td>\n",
       "      <td>1</td>\n",
       "      <td>0</td>\n",
       "      <td>0</td>\n",
       "    </tr>\n",
       "    <tr>\n",
       "      <th>5.27E+18</th>\n",
       "      <td>2</td>\n",
       "      <td>5</td>\n",
       "      <td>1</td>\n",
       "      <td>0</td>\n",
       "      <td>0</td>\n",
       "    </tr>\n",
       "    <tr>\n",
       "      <th>0000000000000a419698266553970235</th>\n",
       "      <td>3</td>\n",
       "      <td>3</td>\n",
       "      <td>1</td>\n",
       "      <td>0</td>\n",
       "      <td>0</td>\n",
       "    </tr>\n",
       "    <tr>\n",
       "      <th>000000000000a6409315927365159953</th>\n",
       "      <td>1</td>\n",
       "      <td>8</td>\n",
       "      <td>1</td>\n",
       "      <td>0</td>\n",
       "      <td>0</td>\n",
       "    </tr>\n",
       "    <tr>\n",
       "      <th>...</th>\n",
       "      <td>...</td>\n",
       "      <td>...</td>\n",
       "      <td>...</td>\n",
       "      <td>...</td>\n",
       "      <td>...</td>\n",
       "    </tr>\n",
       "    <tr>\n",
       "      <th>ffeeaa76195841efab257d819dac7bbb</th>\n",
       "      <td>2</td>\n",
       "      <td>27</td>\n",
       "      <td>12</td>\n",
       "      <td>1</td>\n",
       "      <td>0</td>\n",
       "    </tr>\n",
       "    <tr>\n",
       "      <th>fff0a4ec1e7548b2a8b3245defbeabc1</th>\n",
       "      <td>15</td>\n",
       "      <td>51</td>\n",
       "      <td>9</td>\n",
       "      <td>1</td>\n",
       "      <td>0</td>\n",
       "    </tr>\n",
       "    <tr>\n",
       "      <th>fff16bbe71f74b06a2e0b58186be2db9</th>\n",
       "      <td>1</td>\n",
       "      <td>5</td>\n",
       "      <td>2</td>\n",
       "      <td>0</td>\n",
       "      <td>0</td>\n",
       "    </tr>\n",
       "    <tr>\n",
       "      <th>fff8033f52ac4d67ae61f2e70559e681</th>\n",
       "      <td>2</td>\n",
       "      <td>3</td>\n",
       "      <td>3</td>\n",
       "      <td>0</td>\n",
       "      <td>0</td>\n",
       "    </tr>\n",
       "    <tr>\n",
       "      <th>fffc6535ff9441ee81e321e95374ed77</th>\n",
       "      <td>2</td>\n",
       "      <td>28</td>\n",
       "      <td>6</td>\n",
       "      <td>1</td>\n",
       "      <td>1</td>\n",
       "    </tr>\n",
       "  </tbody>\n",
       "</table>\n",
       "<p>25854 rows × 5 columns</p>\n",
       "</div>"
      ],
      "text/plain": [
       "                                  articles_viewed  streams_added  sessions  \\\n",
       "user_identities.identity                                                     \n",
       "4.32E+17                                        1              1         1   \n",
       "2.39E+18                                        1              5         1   \n",
       "5.27E+18                                        2              5         1   \n",
       "0000000000000a419698266553970235                3              3         1   \n",
       "000000000000a6409315927365159953                1              8         1   \n",
       "...                                           ...            ...       ...   \n",
       "ffeeaa76195841efab257d819dac7bbb                2             27        12   \n",
       "fff0a4ec1e7548b2a8b3245defbeabc1               15             51         9   \n",
       "fff16bbe71f74b06a2e0b58186be2db9                1              5         2   \n",
       "fff8033f52ac4d67ae61f2e70559e681                2              3         3   \n",
       "fffc6535ff9441ee81e321e95374ed77                2             28         6   \n",
       "\n",
       "                                  greater_than_5_sessions  push_enabled  \n",
       "user_identities.identity                                                 \n",
       "4.32E+17                                                0             0  \n",
       "2.39E+18                                                0             0  \n",
       "5.27E+18                                                0             0  \n",
       "0000000000000a419698266553970235                        0             0  \n",
       "000000000000a6409315927365159953                        0             0  \n",
       "...                                                   ...           ...  \n",
       "ffeeaa76195841efab257d819dac7bbb                        1             0  \n",
       "fff0a4ec1e7548b2a8b3245defbeabc1                        1             0  \n",
       "fff16bbe71f74b06a2e0b58186be2db9                        0             0  \n",
       "fff8033f52ac4d67ae61f2e70559e681                        0             0  \n",
       "fffc6535ff9441ee81e321e95374ed77                        1             1  \n",
       "\n",
       "[25854 rows x 5 columns]"
      ]
     },
     "execution_count": 2,
     "metadata": {},
     "output_type": "execute_result"
    }
   ],
   "source": [
    "df = pd.read_csv(os.path.join('..', 'Datasets', 'BR_data.csv'))\n",
    "df = df.set_index('user_identities.identity')\n",
    "df"
   ]
  },
  {
   "cell_type": "code",
   "execution_count": 3,
   "metadata": {
    "collapsed": false
   },
   "outputs": [
    {
     "data": {
      "text/plain": [
       "articles_viewed             6.213623\n",
       "streams_added              65.120716\n",
       "sessions                   12.847026\n",
       "greater_than_5_sessions     0.637812\n",
       "push_enabled                0.092597\n",
       "dtype: float64"
      ]
     },
     "execution_count": 3,
     "metadata": {},
     "output_type": "execute_result"
    }
   ],
   "source": [
    "df.mean()"
   ]
  },
  {
   "cell_type": "markdown",
   "metadata": {},
   "source": [
    "Mean for streams added seams huge, there has to be outliers"
   ]
  },
  {
   "cell_type": "code",
   "execution_count": 4,
   "metadata": {
    "collapsed": false
   },
   "outputs": [
    {
     "data": {
      "text/plain": [
       "articles_viewed              101.157125\n",
       "streams_added              38743.193372\n",
       "sessions                     225.481994\n",
       "greater_than_5_sessions        0.231017\n",
       "push_enabled                   0.084026\n",
       "dtype: float64"
      ]
     },
     "execution_count": 4,
     "metadata": {},
     "output_type": "execute_result"
    }
   ],
   "source": [
    "df.var()"
   ]
  },
  {
   "cell_type": "code",
   "execution_count": 5,
   "metadata": {
    "collapsed": false
   },
   "outputs": [
    {
     "data": {
      "text/plain": [
       "articles_viewed            0\n",
       "streams_added              0\n",
       "sessions                   0\n",
       "greater_than_5_sessions    0\n",
       "push_enabled               0\n",
       "dtype: int64"
      ]
     },
     "execution_count": 5,
     "metadata": {},
     "output_type": "execute_result"
    }
   ],
   "source": [
    "df.isnull().sum()"
   ]
  },
  {
   "cell_type": "code",
   "execution_count": 6,
   "metadata": {
    "collapsed": false
   },
   "outputs": [
    {
     "data": {
      "text/plain": [
       "1      6449\n",
       "2      4204\n",
       "3      2956\n",
       "4      2174\n",
       "5      1714\n",
       "       ... \n",
       "134       1\n",
       "78        1\n",
       "94        1\n",
       "274       1\n",
       "106       1\n",
       "Name: articles_viewed, dtype: int64"
      ]
     },
     "execution_count": 6,
     "metadata": {},
     "output_type": "execute_result"
    }
   ],
   "source": [
    "df.articles_viewed.value_counts()\n",
    "\n"
   ]
  },
  {
   "cell_type": "code",
   "execution_count": 7,
   "metadata": {
    "collapsed": false
   },
   "outputs": [
    {
     "data": {
      "text/plain": [
       "5       1247\n",
       "1       1142\n",
       "4        973\n",
       "6        855\n",
       "7        809\n",
       "        ... \n",
       "584        1\n",
       "632        1\n",
       "648        1\n",
       "728        1\n",
       "2049       1\n",
       "Name: streams_added, dtype: int64"
      ]
     },
     "execution_count": 7,
     "metadata": {},
     "output_type": "execute_result"
    }
   ],
   "source": [
    "df.streams_added.value_counts()"
   ]
  },
  {
   "cell_type": "code",
   "execution_count": 8,
   "metadata": {
    "collapsed": false
   },
   "outputs": [
    {
     "data": {
      "text/plain": [
       "2      2111\n",
       "3      2092\n",
       "4      1963\n",
       "5      1724\n",
       "6      1604\n",
       "       ... \n",
       "213       1\n",
       "139       1\n",
       "155       1\n",
       "177       1\n",
       "159       1\n",
       "Name: sessions, dtype: int64"
      ]
     },
     "execution_count": 8,
     "metadata": {},
     "output_type": "execute_result"
    }
   ],
   "source": [
    "df.sessions.value_counts()"
   ]
  },
  {
   "cell_type": "code",
   "execution_count": 9,
   "metadata": {
    "collapsed": false
   },
   "outputs": [
    {
     "data": {
      "text/plain": [
       "0    23460\n",
       "1     2394\n",
       "Name: push_enabled, dtype: int64"
      ]
     },
     "execution_count": 9,
     "metadata": {},
     "output_type": "execute_result"
    }
   ],
   "source": [
    "df.push_enabled.value_counts()"
   ]
  },
  {
   "cell_type": "code",
   "execution_count": 10,
   "metadata": {
    "collapsed": false
   },
   "outputs": [
    {
     "data": {
      "text/plain": [
       "1    16490\n",
       "0     9364\n",
       "Name: greater_than_5_sessions, dtype: int64"
      ]
     },
     "execution_count": 10,
     "metadata": {},
     "output_type": "execute_result"
    }
   ],
   "source": [
    "df.greater_than_5_sessions.value_counts()"
   ]
  },
  {
   "cell_type": "code",
   "execution_count": 11,
   "metadata": {
    "collapsed": false
   },
   "outputs": [
    {
     "data": {
      "text/html": [
       "<div>\n",
       "<table border=\"1\" class=\"dataframe\">\n",
       "  <thead>\n",
       "    <tr style=\"text-align: right;\">\n",
       "      <th></th>\n",
       "      <th>articles_viewed</th>\n",
       "      <th>streams_added</th>\n",
       "      <th>sessions</th>\n",
       "      <th>greater_than_5_sessions</th>\n",
       "      <th>push_enabled</th>\n",
       "    </tr>\n",
       "  </thead>\n",
       "  <tbody>\n",
       "    <tr>\n",
       "      <th>count</th>\n",
       "      <td>25854.000000</td>\n",
       "      <td>25854.000000</td>\n",
       "      <td>25854.000000</td>\n",
       "      <td>25854.000000</td>\n",
       "      <td>25854.000000</td>\n",
       "    </tr>\n",
       "    <tr>\n",
       "      <th>mean</th>\n",
       "      <td>6.213623</td>\n",
       "      <td>65.120716</td>\n",
       "      <td>12.847026</td>\n",
       "      <td>0.637812</td>\n",
       "      <td>0.092597</td>\n",
       "    </tr>\n",
       "    <tr>\n",
       "      <th>std</th>\n",
       "      <td>10.057690</td>\n",
       "      <td>196.832907</td>\n",
       "      <td>15.016058</td>\n",
       "      <td>0.480642</td>\n",
       "      <td>0.289872</td>\n",
       "    </tr>\n",
       "    <tr>\n",
       "      <th>min</th>\n",
       "      <td>1.000000</td>\n",
       "      <td>1.000000</td>\n",
       "      <td>1.000000</td>\n",
       "      <td>0.000000</td>\n",
       "      <td>0.000000</td>\n",
       "    </tr>\n",
       "    <tr>\n",
       "      <th>25%</th>\n",
       "      <td>2.000000</td>\n",
       "      <td>8.000000</td>\n",
       "      <td>4.000000</td>\n",
       "      <td>0.000000</td>\n",
       "      <td>0.000000</td>\n",
       "    </tr>\n",
       "    <tr>\n",
       "      <th>50%</th>\n",
       "      <td>3.000000</td>\n",
       "      <td>21.000000</td>\n",
       "      <td>8.000000</td>\n",
       "      <td>1.000000</td>\n",
       "      <td>0.000000</td>\n",
       "    </tr>\n",
       "    <tr>\n",
       "      <th>75%</th>\n",
       "      <td>7.000000</td>\n",
       "      <td>58.000000</td>\n",
       "      <td>16.000000</td>\n",
       "      <td>1.000000</td>\n",
       "      <td>0.000000</td>\n",
       "    </tr>\n",
       "    <tr>\n",
       "      <th>max</th>\n",
       "      <td>481.000000</td>\n",
       "      <td>9953.000000</td>\n",
       "      <td>288.000000</td>\n",
       "      <td>1.000000</td>\n",
       "      <td>1.000000</td>\n",
       "    </tr>\n",
       "  </tbody>\n",
       "</table>\n",
       "</div>"
      ],
      "text/plain": [
       "       articles_viewed  streams_added      sessions  greater_than_5_sessions  \\\n",
       "count     25854.000000   25854.000000  25854.000000             25854.000000   \n",
       "mean          6.213623      65.120716     12.847026                 0.637812   \n",
       "std          10.057690     196.832907     15.016058                 0.480642   \n",
       "min           1.000000       1.000000      1.000000                 0.000000   \n",
       "25%           2.000000       8.000000      4.000000                 0.000000   \n",
       "50%           3.000000      21.000000      8.000000                 1.000000   \n",
       "75%           7.000000      58.000000     16.000000                 1.000000   \n",
       "max         481.000000    9953.000000    288.000000                 1.000000   \n",
       "\n",
       "       push_enabled  \n",
       "count  25854.000000  \n",
       "mean       0.092597  \n",
       "std        0.289872  \n",
       "min        0.000000  \n",
       "25%        0.000000  \n",
       "50%        0.000000  \n",
       "75%        0.000000  \n",
       "max        1.000000  "
      ]
     },
     "execution_count": 11,
     "metadata": {},
     "output_type": "execute_result"
    }
   ],
   "source": [
    "df.describe()"
   ]
  },
  {
   "cell_type": "code",
   "execution_count": 12,
   "metadata": {
    "collapsed": false
   },
   "outputs": [
    {
     "data": {
      "text/html": [
       "<div>\n",
       "<table border=\"1\" class=\"dataframe\">\n",
       "  <thead>\n",
       "    <tr style=\"text-align: right;\">\n",
       "      <th></th>\n",
       "      <th>articles_viewed</th>\n",
       "      <th>streams_added</th>\n",
       "      <th>sessions</th>\n",
       "      <th>greater_than_5_sessions</th>\n",
       "      <th>push_enabled</th>\n",
       "    </tr>\n",
       "  </thead>\n",
       "  <tbody>\n",
       "    <tr>\n",
       "      <th>articles_viewed</th>\n",
       "      <td>1.000000</td>\n",
       "      <td>0.202627</td>\n",
       "      <td>0.582199</td>\n",
       "      <td>0.277830</td>\n",
       "      <td>-0.038056</td>\n",
       "    </tr>\n",
       "    <tr>\n",
       "      <th>streams_added</th>\n",
       "      <td>0.202627</td>\n",
       "      <td>1.000000</td>\n",
       "      <td>0.415350</td>\n",
       "      <td>0.188577</td>\n",
       "      <td>-0.024599</td>\n",
       "    </tr>\n",
       "    <tr>\n",
       "      <th>sessions</th>\n",
       "      <td>0.582199</td>\n",
       "      <td>0.415350</td>\n",
       "      <td>1.000000</td>\n",
       "      <td>0.492285</td>\n",
       "      <td>-0.018064</td>\n",
       "    </tr>\n",
       "    <tr>\n",
       "      <th>greater_than_5_sessions</th>\n",
       "      <td>0.277830</td>\n",
       "      <td>0.188577</td>\n",
       "      <td>0.492285</td>\n",
       "      <td>1.000000</td>\n",
       "      <td>-0.001644</td>\n",
       "    </tr>\n",
       "    <tr>\n",
       "      <th>push_enabled</th>\n",
       "      <td>-0.038056</td>\n",
       "      <td>-0.024599</td>\n",
       "      <td>-0.018064</td>\n",
       "      <td>-0.001644</td>\n",
       "      <td>1.000000</td>\n",
       "    </tr>\n",
       "  </tbody>\n",
       "</table>\n",
       "</div>"
      ],
      "text/plain": [
       "                         articles_viewed  streams_added  sessions  \\\n",
       "articles_viewed                 1.000000       0.202627  0.582199   \n",
       "streams_added                   0.202627       1.000000  0.415350   \n",
       "sessions                        0.582199       0.415350  1.000000   \n",
       "greater_than_5_sessions         0.277830       0.188577  0.492285   \n",
       "push_enabled                   -0.038056      -0.024599 -0.018064   \n",
       "\n",
       "                         greater_than_5_sessions  push_enabled  \n",
       "articles_viewed                         0.277830     -0.038056  \n",
       "streams_added                           0.188577     -0.024599  \n",
       "sessions                                0.492285     -0.018064  \n",
       "greater_than_5_sessions                 1.000000     -0.001644  \n",
       "push_enabled                           -0.001644      1.000000  "
      ]
     },
     "execution_count": 12,
     "metadata": {},
     "output_type": "execute_result"
    }
   ],
   "source": [
    "df.corr()"
   ]
  },
  {
   "cell_type": "code",
   "execution_count": 13,
   "metadata": {
    "collapsed": false
   },
   "outputs": [],
   "source": [
    "df.drop('push_enabled', axis = 1, inplace = True)\n"
   ]
  },
  {
   "cell_type": "code",
   "execution_count": 14,
   "metadata": {
    "collapsed": true
   },
   "outputs": [],
   "source": [
    "df.drop('sessions', axis = 1, inplace = True)"
   ]
  },
  {
   "cell_type": "code",
   "execution_count": 15,
   "metadata": {
    "collapsed": false
   },
   "outputs": [
    {
     "data": {
      "text/html": [
       "<div>\n",
       "<table border=\"1\" class=\"dataframe\">\n",
       "  <thead>\n",
       "    <tr style=\"text-align: right;\">\n",
       "      <th></th>\n",
       "      <th>articles_viewed</th>\n",
       "      <th>streams_added</th>\n",
       "      <th>greater_than_5_sessions</th>\n",
       "    </tr>\n",
       "    <tr>\n",
       "      <th>user_identities.identity</th>\n",
       "      <th></th>\n",
       "      <th></th>\n",
       "      <th></th>\n",
       "    </tr>\n",
       "  </thead>\n",
       "  <tbody>\n",
       "    <tr>\n",
       "      <th>4.32E+17</th>\n",
       "      <td>1</td>\n",
       "      <td>1</td>\n",
       "      <td>0</td>\n",
       "    </tr>\n",
       "    <tr>\n",
       "      <th>2.39E+18</th>\n",
       "      <td>1</td>\n",
       "      <td>5</td>\n",
       "      <td>0</td>\n",
       "    </tr>\n",
       "    <tr>\n",
       "      <th>5.27E+18</th>\n",
       "      <td>2</td>\n",
       "      <td>5</td>\n",
       "      <td>0</td>\n",
       "    </tr>\n",
       "    <tr>\n",
       "      <th>0000000000000a419698266553970235</th>\n",
       "      <td>3</td>\n",
       "      <td>3</td>\n",
       "      <td>0</td>\n",
       "    </tr>\n",
       "    <tr>\n",
       "      <th>000000000000a6409315927365159953</th>\n",
       "      <td>1</td>\n",
       "      <td>8</td>\n",
       "      <td>0</td>\n",
       "    </tr>\n",
       "    <tr>\n",
       "      <th>...</th>\n",
       "      <td>...</td>\n",
       "      <td>...</td>\n",
       "      <td>...</td>\n",
       "    </tr>\n",
       "    <tr>\n",
       "      <th>ffeeaa76195841efab257d819dac7bbb</th>\n",
       "      <td>2</td>\n",
       "      <td>27</td>\n",
       "      <td>1</td>\n",
       "    </tr>\n",
       "    <tr>\n",
       "      <th>fff0a4ec1e7548b2a8b3245defbeabc1</th>\n",
       "      <td>15</td>\n",
       "      <td>51</td>\n",
       "      <td>1</td>\n",
       "    </tr>\n",
       "    <tr>\n",
       "      <th>fff16bbe71f74b06a2e0b58186be2db9</th>\n",
       "      <td>1</td>\n",
       "      <td>5</td>\n",
       "      <td>0</td>\n",
       "    </tr>\n",
       "    <tr>\n",
       "      <th>fff8033f52ac4d67ae61f2e70559e681</th>\n",
       "      <td>2</td>\n",
       "      <td>3</td>\n",
       "      <td>0</td>\n",
       "    </tr>\n",
       "    <tr>\n",
       "      <th>fffc6535ff9441ee81e321e95374ed77</th>\n",
       "      <td>2</td>\n",
       "      <td>28</td>\n",
       "      <td>1</td>\n",
       "    </tr>\n",
       "  </tbody>\n",
       "</table>\n",
       "<p>25854 rows × 3 columns</p>\n",
       "</div>"
      ],
      "text/plain": [
       "                                  articles_viewed  streams_added  \\\n",
       "user_identities.identity                                           \n",
       "4.32E+17                                        1              1   \n",
       "2.39E+18                                        1              5   \n",
       "5.27E+18                                        2              5   \n",
       "0000000000000a419698266553970235                3              3   \n",
       "000000000000a6409315927365159953                1              8   \n",
       "...                                           ...            ...   \n",
       "ffeeaa76195841efab257d819dac7bbb                2             27   \n",
       "fff0a4ec1e7548b2a8b3245defbeabc1               15             51   \n",
       "fff16bbe71f74b06a2e0b58186be2db9                1              5   \n",
       "fff8033f52ac4d67ae61f2e70559e681                2              3   \n",
       "fffc6535ff9441ee81e321e95374ed77                2             28   \n",
       "\n",
       "                                  greater_than_5_sessions  \n",
       "user_identities.identity                                   \n",
       "4.32E+17                                                0  \n",
       "2.39E+18                                                0  \n",
       "5.27E+18                                                0  \n",
       "0000000000000a419698266553970235                        0  \n",
       "000000000000a6409315927365159953                        0  \n",
       "...                                                   ...  \n",
       "ffeeaa76195841efab257d819dac7bbb                        1  \n",
       "fff0a4ec1e7548b2a8b3245defbeabc1                        1  \n",
       "fff16bbe71f74b06a2e0b58186be2db9                        0  \n",
       "fff8033f52ac4d67ae61f2e70559e681                        0  \n",
       "fffc6535ff9441ee81e321e95374ed77                        1  \n",
       "\n",
       "[25854 rows x 3 columns]"
      ]
     },
     "execution_count": 15,
     "metadata": {},
     "output_type": "execute_result"
    }
   ],
   "source": [
    "df"
   ]
  },
  {
   "cell_type": "code",
   "execution_count": 16,
   "metadata": {
    "collapsed": false
   },
   "outputs": [
    {
     "data": {
      "text/plain": [
       "<matplotlib.axes._subplots.AxesSubplot at 0x118fd6250>"
      ]
     },
     "execution_count": 16,
     "metadata": {},
     "output_type": "execute_result"
    },
    {
     "data": {
      "image/png": "[encoded data removed]",
      "text/plain": [
       "<matplotlib.figure.Figure at 0x118fd6690>"
      ]
     },
     "metadata": {},
     "output_type": "display_data"
    }
   ],
   "source": [
    "df[['articles_viewed', 'streams_added']].plot(kind = 'box')"
   ]
  },
  {
   "cell_type": "code",
   "execution_count": 17,
   "metadata": {
    "collapsed": false
   },
   "outputs": [
    {
     "data": {
      "text/plain": [
       "<matplotlib.axes._subplots.AxesSubplot at 0x118e00c10>"
      ]
     },
     "execution_count": 17,
     "metadata": {},
     "output_type": "execute_result"
    },
    {
     "data": {
      "image/png": "[encoded data removed]",
      "text/plain": [
       "<matplotlib.figure.Figure at 0x11b86b150>"
      ]
     },
     "metadata": {},
     "output_type": "display_data"
    }
   ],
   "source": [
    "df[['articles_viewed']].plot(kind = 'box')"
   ]
  },
  {
   "cell_type": "code",
   "execution_count": 18,
   "metadata": {
    "collapsed": false
   },
   "outputs": [
    {
     "data": {
      "text/plain": [
       "<matplotlib.axes._subplots.AxesSubplot at 0x11b7ec8d0>"
      ]
     },
     "execution_count": 18,
     "metadata": {},
     "output_type": "execute_result"
    },
    {
     "data": {
      "image/png": "[encoded data removed]",
      "text/plain": [
       "<matplotlib.figure.Figure at 0x118fd6810>"
      ]
     },
     "metadata": {},
     "output_type": "display_data"
    }
   ],
   "source": [
    "df.articles_viewed.plot(kind = 'hist')"
   ]
  },
  {
   "cell_type": "code",
   "execution_count": 19,
   "metadata": {
    "collapsed": false
   },
   "outputs": [
    {
     "data": {
      "text/plain": [
       "<matplotlib.axes._subplots.AxesSubplot at 0x118a5f210>"
      ]
     },
     "execution_count": 19,
     "metadata": {},
     "output_type": "execute_result"
    },
    {
     "data": {
      "image/png": "[encoded data removed]",
      "text/plain": [
       "<matplotlib.figure.Figure at 0x11b802410>"
      ]
     },
     "metadata": {},
     "output_type": "display_data"
    }
   ],
   "source": [
    "df.streams_added.plot(kind = 'hist')"
   ]
  },
  {
   "cell_type": "code",
   "execution_count": 20,
   "metadata": {
    "collapsed": false
   },
   "outputs": [],
   "source": [
    "color = df.greater_than_5_sessions.map({ 1 : 'red', 0 : 'green'})"
   ]
  },
  {
   "cell_type": "code",
   "execution_count": 21,
   "metadata": {
    "collapsed": false
   },
   "outputs": [
    {
     "data": {
      "text/plain": [
       "<matplotlib.axes._subplots.AxesSubplot at 0x118c1ca10>"
      ]
     },
     "execution_count": 21,
     "metadata": {},
     "output_type": "execute_result"
    },
    {
     "data": {
      "image/png": "[encoded data removed]",
      "text/plain": [
       "<matplotlib.figure.Figure at 0x118c2f6d0>"
      ]
     },
     "metadata": {},
     "output_type": "display_data"
    }
   ],
   "source": [
    "df.plot(x = 'articles_viewed', y = 'streams_added', kind = 'scatter', c = color)"
   ]
  },
  {
   "cell_type": "code",
   "execution_count": 22,
   "metadata": {
    "collapsed": false
   },
   "outputs": [
    {
     "data": {
      "text/plain": [
       "array([[<matplotlib.axes._subplots.AxesSubplot object at 0x11b7071d0>,\n",
       "        <matplotlib.axes._subplots.AxesSubplot object at 0x11b669790>],\n",
       "       [<matplotlib.axes._subplots.AxesSubplot object at 0x118e3fd90>,\n",
       "        <matplotlib.axes._subplots.AxesSubplot object at 0x1188efc10>]], dtype=object)"
      ]
     },
     "execution_count": 22,
     "metadata": {},
     "output_type": "execute_result"
    },
    {
     "data": {
      "image/png": "[encoded data removed]",
      "text/plain": [
       "<matplotlib.figure.Figure at 0x11917f610>"
      ]
     },
     "metadata": {},
     "output_type": "display_data"
    }
   ],
   "source": [
    "pd.tools.plotting.scatter_matrix(df[ ['articles_viewed', 'streams_added'] ], s = 200, figsize = (8, 8), c = color)"
   ]
  },
  {
   "cell_type": "code",
   "execution_count": 23,
   "metadata": {
    "collapsed": false
   },
   "outputs": [
    {
     "data": {
      "text/html": [
       "<div>\n",
       "<table border=\"1\" class=\"dataframe\">\n",
       "  <thead>\n",
       "    <tr style=\"text-align: right;\">\n",
       "      <th>greater_than_5_sessions</th>\n",
       "      <th>0</th>\n",
       "      <th>1</th>\n",
       "    </tr>\n",
       "    <tr>\n",
       "      <th>articles_viewed</th>\n",
       "      <th></th>\n",
       "      <th></th>\n",
       "    </tr>\n",
       "  </thead>\n",
       "  <tbody>\n",
       "    <tr>\n",
       "      <th>1</th>\n",
       "      <td>4035</td>\n",
       "      <td>2414</td>\n",
       "    </tr>\n",
       "    <tr>\n",
       "      <th>2</th>\n",
       "      <td>2214</td>\n",
       "      <td>1990</td>\n",
       "    </tr>\n",
       "    <tr>\n",
       "      <th>3</th>\n",
       "      <td>1185</td>\n",
       "      <td>1771</td>\n",
       "    </tr>\n",
       "    <tr>\n",
       "      <th>4</th>\n",
       "      <td>705</td>\n",
       "      <td>1469</td>\n",
       "    </tr>\n",
       "    <tr>\n",
       "      <th>5</th>\n",
       "      <td>455</td>\n",
       "      <td>1259</td>\n",
       "    </tr>\n",
       "    <tr>\n",
       "      <th>...</th>\n",
       "      <td>...</td>\n",
       "      <td>...</td>\n",
       "    </tr>\n",
       "    <tr>\n",
       "      <th>197</th>\n",
       "      <td>0</td>\n",
       "      <td>1</td>\n",
       "    </tr>\n",
       "    <tr>\n",
       "      <th>199</th>\n",
       "      <td>0</td>\n",
       "      <td>1</td>\n",
       "    </tr>\n",
       "    <tr>\n",
       "      <th>229</th>\n",
       "      <td>0</td>\n",
       "      <td>1</td>\n",
       "    </tr>\n",
       "    <tr>\n",
       "      <th>274</th>\n",
       "      <td>0</td>\n",
       "      <td>1</td>\n",
       "    </tr>\n",
       "    <tr>\n",
       "      <th>481</th>\n",
       "      <td>0</td>\n",
       "      <td>1</td>\n",
       "    </tr>\n",
       "  </tbody>\n",
       "</table>\n",
       "<p>122 rows × 2 columns</p>\n",
       "</div>"
      ],
      "text/plain": [
       "greater_than_5_sessions     0     1\n",
       "articles_viewed                    \n",
       "1                        4035  2414\n",
       "2                        2214  1990\n",
       "3                        1185  1771\n",
       "4                         705  1469\n",
       "5                         455  1259\n",
       "...                       ...   ...\n",
       "197                         0     1\n",
       "199                         0     1\n",
       "229                         0     1\n",
       "274                         0     1\n",
       "481                         0     1\n",
       "\n",
       "[122 rows x 2 columns]"
      ]
     },
     "execution_count": 23,
     "metadata": {},
     "output_type": "execute_result"
    }
   ],
   "source": [
    "pd.crosstab(df.articles_viewed, df.greater_than_5_sessions)"
   ]
  },
  {
   "cell_type": "code",
   "execution_count": 24,
   "metadata": {
    "collapsed": false
   },
   "outputs": [
    {
     "data": {
      "text/html": [
       "<div>\n",
       "<table border=\"1\" class=\"dataframe\">\n",
       "  <thead>\n",
       "    <tr style=\"text-align: right;\">\n",
       "      <th>greater_than_5_sessions</th>\n",
       "      <th>0</th>\n",
       "      <th>1</th>\n",
       "    </tr>\n",
       "    <tr>\n",
       "      <th>streams_added</th>\n",
       "      <th></th>\n",
       "      <th></th>\n",
       "    </tr>\n",
       "  </thead>\n",
       "  <tbody>\n",
       "    <tr>\n",
       "      <th>1</th>\n",
       "      <td>913</td>\n",
       "      <td>229</td>\n",
       "    </tr>\n",
       "    <tr>\n",
       "      <th>2</th>\n",
       "      <td>543</td>\n",
       "      <td>191</td>\n",
       "    </tr>\n",
       "    <tr>\n",
       "      <th>3</th>\n",
       "      <td>488</td>\n",
       "      <td>207</td>\n",
       "    </tr>\n",
       "    <tr>\n",
       "      <th>4</th>\n",
       "      <td>623</td>\n",
       "      <td>350</td>\n",
       "    </tr>\n",
       "    <tr>\n",
       "      <th>5</th>\n",
       "      <td>776</td>\n",
       "      <td>471</td>\n",
       "    </tr>\n",
       "    <tr>\n",
       "      <th>...</th>\n",
       "      <td>...</td>\n",
       "      <td>...</td>\n",
       "    </tr>\n",
       "    <tr>\n",
       "      <th>6320</th>\n",
       "      <td>0</td>\n",
       "      <td>1</td>\n",
       "    </tr>\n",
       "    <tr>\n",
       "      <th>6796</th>\n",
       "      <td>0</td>\n",
       "      <td>1</td>\n",
       "    </tr>\n",
       "    <tr>\n",
       "      <th>7025</th>\n",
       "      <td>0</td>\n",
       "      <td>1</td>\n",
       "    </tr>\n",
       "    <tr>\n",
       "      <th>8579</th>\n",
       "      <td>0</td>\n",
       "      <td>1</td>\n",
       "    </tr>\n",
       "    <tr>\n",
       "      <th>9953</th>\n",
       "      <td>0</td>\n",
       "      <td>1</td>\n",
       "    </tr>\n",
       "  </tbody>\n",
       "</table>\n",
       "<p>803 rows × 2 columns</p>\n",
       "</div>"
      ],
      "text/plain": [
       "greater_than_5_sessions    0    1\n",
       "streams_added                    \n",
       "1                        913  229\n",
       "2                        543  191\n",
       "3                        488  207\n",
       "4                        623  350\n",
       "5                        776  471\n",
       "...                      ...  ...\n",
       "6320                       0    1\n",
       "6796                       0    1\n",
       "7025                       0    1\n",
       "8579                       0    1\n",
       "9953                       0    1\n",
       "\n",
       "[803 rows x 2 columns]"
      ]
     },
     "execution_count": 24,
     "metadata": {},
     "output_type": "execute_result"
    }
   ],
   "source": [
    "pd.crosstab(df.streams_added, df.greater_than_5_sessions)"
   ]
  },
  {
   "cell_type": "markdown",
   "metadata": {},
   "source": [
    "Removing Outliers"
   ]
  },
  {
   "cell_type": "code",
   "execution_count": 25,
   "metadata": {
    "collapsed": false
   },
   "outputs": [
    {
     "data": {
      "text/plain": [
       "50.0"
      ]
     },
     "execution_count": 25,
     "metadata": {},
     "output_type": "execute_result"
    }
   ],
   "source": [
    "Q1_sa = df.streams_added.quantile(0.25)\n",
    "Q3_sa = df.streams_added.quantile(0.75)\n",
    "\n",
    "IQR_sa = Q3_sa - Q1_sa\n",
    "\n",
    "IQR_sa"
   ]
  },
  {
   "cell_type": "code",
   "execution_count": 26,
   "metadata": {
    "collapsed": false
   },
   "outputs": [
    {
     "data": {
      "text/plain": [
       "23025"
      ]
     },
     "execution_count": 26,
     "metadata": {},
     "output_type": "execute_result"
    }
   ],
   "source": [
    "df.drop(df[df.streams_added > Q3_sa + 1.5 * IQR_sa].index, inplace = True)\n",
    "df.shape[0]"
   ]
  },
  {
   "cell_type": "code",
   "execution_count": 27,
   "metadata": {
    "collapsed": false
   },
   "outputs": [
    {
     "data": {
      "text/plain": [
       "5.0"
      ]
     },
     "execution_count": 27,
     "metadata": {},
     "output_type": "execute_result"
    }
   ],
   "source": [
    "Q1_av = df.articles_viewed.quantile(0.25)\n",
    "Q3_av = df.articles_viewed.quantile(0.75)\n",
    "\n",
    "IQR_av = Q3_av - Q1_av\n",
    "\n",
    "IQR_av"
   ]
  },
  {
   "cell_type": "code",
   "execution_count": 28,
   "metadata": {
    "collapsed": false
   },
   "outputs": [
    {
     "data": {
      "text/plain": [
       "21242"
      ]
     },
     "execution_count": 28,
     "metadata": {},
     "output_type": "execute_result"
    }
   ],
   "source": [
    "df.drop(df[df.articles_viewed > Q3_av + 1.5 * IQR_av].index, inplace = True)\n",
    "df.shape[0]"
   ]
  },
  {
   "cell_type": "markdown",
   "metadata": {},
   "source": [
    "Re-doing EDA without Outliers"
   ]
  },
  {
   "cell_type": "code",
   "execution_count": 29,
   "metadata": {
    "collapsed": false
   },
   "outputs": [
    {
     "data": {
      "text/html": [
       "<div>\n",
       "<table border=\"1\" class=\"dataframe\">\n",
       "  <thead>\n",
       "    <tr style=\"text-align: right;\">\n",
       "      <th></th>\n",
       "      <th>articles_viewed</th>\n",
       "      <th>streams_added</th>\n",
       "      <th>greater_than_5_sessions</th>\n",
       "    </tr>\n",
       "  </thead>\n",
       "  <tbody>\n",
       "    <tr>\n",
       "      <th>count</th>\n",
       "      <td>21242.000000</td>\n",
       "      <td>21242.000000</td>\n",
       "      <td>21242.000000</td>\n",
       "    </tr>\n",
       "    <tr>\n",
       "      <th>mean</th>\n",
       "      <td>3.670888</td>\n",
       "      <td>27.279588</td>\n",
       "      <td>0.564919</td>\n",
       "    </tr>\n",
       "    <tr>\n",
       "      <th>std</th>\n",
       "      <td>2.972040</td>\n",
       "      <td>29.028298</td>\n",
       "      <td>0.495779</td>\n",
       "    </tr>\n",
       "    <tr>\n",
       "      <th>min</th>\n",
       "      <td>1.000000</td>\n",
       "      <td>1.000000</td>\n",
       "      <td>0.000000</td>\n",
       "    </tr>\n",
       "    <tr>\n",
       "      <th>25%</th>\n",
       "      <td>1.000000</td>\n",
       "      <td>6.000000</td>\n",
       "      <td>0.000000</td>\n",
       "    </tr>\n",
       "    <tr>\n",
       "      <th>50%</th>\n",
       "      <td>3.000000</td>\n",
       "      <td>16.000000</td>\n",
       "      <td>1.000000</td>\n",
       "    </tr>\n",
       "    <tr>\n",
       "      <th>75%</th>\n",
       "      <td>5.000000</td>\n",
       "      <td>38.000000</td>\n",
       "      <td>1.000000</td>\n",
       "    </tr>\n",
       "    <tr>\n",
       "      <th>max</th>\n",
       "      <td>13.000000</td>\n",
       "      <td>133.000000</td>\n",
       "      <td>1.000000</td>\n",
       "    </tr>\n",
       "  </tbody>\n",
       "</table>\n",
       "</div>"
      ],
      "text/plain": [
       "       articles_viewed  streams_added  greater_than_5_sessions\n",
       "count     21242.000000   21242.000000             21242.000000\n",
       "mean          3.670888      27.279588                 0.564919\n",
       "std           2.972040      29.028298                 0.495779\n",
       "min           1.000000       1.000000                 0.000000\n",
       "25%           1.000000       6.000000                 0.000000\n",
       "50%           3.000000      16.000000                 1.000000\n",
       "75%           5.000000      38.000000                 1.000000\n",
       "max          13.000000     133.000000                 1.000000"
      ]
     },
     "execution_count": 29,
     "metadata": {},
     "output_type": "execute_result"
    }
   ],
   "source": [
    "df.describe()"
   ]
  },
  {
   "cell_type": "code",
   "execution_count": 30,
   "metadata": {
    "collapsed": false
   },
   "outputs": [
    {
     "data": {
      "text/html": [
       "<div>\n",
       "<table border=\"1\" class=\"dataframe\">\n",
       "  <thead>\n",
       "    <tr style=\"text-align: right;\">\n",
       "      <th></th>\n",
       "      <th>articles_viewed</th>\n",
       "      <th>streams_added</th>\n",
       "      <th>greater_than_5_sessions</th>\n",
       "    </tr>\n",
       "  </thead>\n",
       "  <tbody>\n",
       "    <tr>\n",
       "      <th>articles_viewed</th>\n",
       "      <td>1.000000</td>\n",
       "      <td>0.233400</td>\n",
       "      <td>0.365241</td>\n",
       "    </tr>\n",
       "    <tr>\n",
       "      <th>streams_added</th>\n",
       "      <td>0.233400</td>\n",
       "      <td>1.000000</td>\n",
       "      <td>0.401868</td>\n",
       "    </tr>\n",
       "    <tr>\n",
       "      <th>greater_than_5_sessions</th>\n",
       "      <td>0.365241</td>\n",
       "      <td>0.401868</td>\n",
       "      <td>1.000000</td>\n",
       "    </tr>\n",
       "  </tbody>\n",
       "</table>\n",
       "</div>"
      ],
      "text/plain": [
       "                         articles_viewed  streams_added  \\\n",
       "articles_viewed                 1.000000       0.233400   \n",
       "streams_added                   0.233400       1.000000   \n",
       "greater_than_5_sessions         0.365241       0.401868   \n",
       "\n",
       "                         greater_than_5_sessions  \n",
       "articles_viewed                         0.365241  \n",
       "streams_added                           0.401868  \n",
       "greater_than_5_sessions                 1.000000  "
      ]
     },
     "execution_count": 30,
     "metadata": {},
     "output_type": "execute_result"
    }
   ],
   "source": [
    "df.corr()"
   ]
  },
  {
   "cell_type": "code",
   "execution_count": 31,
   "metadata": {
    "collapsed": false
   },
   "outputs": [
    {
     "data": {
      "text/plain": [
       "<matplotlib.axes._subplots.AxesSubplot at 0x11b75b5d0>"
      ]
     },
     "execution_count": 31,
     "metadata": {},
     "output_type": "execute_result"
    },
    {
     "data": {
      "image/png": "[encoded data removed]",
      "text/plain": [
       "<matplotlib.figure.Figure at 0x11c64b950>"
      ]
     },
     "metadata": {},
     "output_type": "display_data"
    }
   ],
   "source": [
    "df[['articles_viewed', 'streams_added']].plot(kind = 'box')"
   ]
  },
  {
   "cell_type": "code",
   "execution_count": 32,
   "metadata": {
    "collapsed": false
   },
   "outputs": [
    {
     "data": {
      "text/plain": [
       "array([[<matplotlib.axes._subplots.AxesSubplot object at 0x11c5e6290>,\n",
       "        <matplotlib.axes._subplots.AxesSubplot object at 0x11c6cf610>],\n",
       "       [<matplotlib.axes._subplots.AxesSubplot object at 0x11ce86550>,\n",
       "        <matplotlib.axes._subplots.AxesSubplot object at 0x11cde7c50>]], dtype=object)"
      ]
     },
     "execution_count": 32,
     "metadata": {},
     "output_type": "execute_result"
    },
    {
     "data": {
      "image/png": "[encoded data removed]",
      "text/plain": [
       "<matplotlib.figure.Figure at 0x11c629f10>"
      ]
     },
     "metadata": {},
     "output_type": "display_data"
    }
   ],
   "source": [
    "pd.tools.plotting.scatter_matrix(df[ ['articles_viewed', 'streams_added'] ], figsize = (8, 8), c = color)"
   ]
  },
  {
   "cell_type": "code",
   "execution_count": 33,
   "metadata": {
    "collapsed": false
   },
   "outputs": [
    {
     "data": {
      "text/plain": [
       "5      1166\n",
       "1      1135\n",
       "4       916\n",
       "6       808\n",
       "7       745\n",
       "       ... \n",
       "125      15\n",
       "133      15\n",
       "112      13\n",
       "123      12\n",
       "118      11\n",
       "Name: streams_added, dtype: int64"
      ]
     },
     "execution_count": 33,
     "metadata": {},
     "output_type": "execute_result"
    }
   ],
   "source": [
    "df.streams_added.value_counts()"
   ]
  },
  {
   "cell_type": "code",
   "execution_count": 34,
   "metadata": {
    "collapsed": false
   },
   "outputs": [
    {
     "data": {
      "text/html": [
       "<div>\n",
       "<table border=\"1\" class=\"dataframe\">\n",
       "  <thead>\n",
       "    <tr style=\"text-align: right;\">\n",
       "      <th>greater_than_5_sessions</th>\n",
       "      <th>0</th>\n",
       "      <th>1</th>\n",
       "    </tr>\n",
       "    <tr>\n",
       "      <th>articles_viewed</th>\n",
       "      <th></th>\n",
       "      <th></th>\n",
       "    </tr>\n",
       "  </thead>\n",
       "  <tbody>\n",
       "    <tr>\n",
       "      <th>1</th>\n",
       "      <td>4001</td>\n",
       "      <td>2209</td>\n",
       "    </tr>\n",
       "    <tr>\n",
       "      <th>2</th>\n",
       "      <td>2197</td>\n",
       "      <td>1808</td>\n",
       "    </tr>\n",
       "    <tr>\n",
       "      <th>3</th>\n",
       "      <td>1177</td>\n",
       "      <td>1571</td>\n",
       "    </tr>\n",
       "    <tr>\n",
       "      <th>4</th>\n",
       "      <td>698</td>\n",
       "      <td>1293</td>\n",
       "    </tr>\n",
       "    <tr>\n",
       "      <th>5</th>\n",
       "      <td>451</td>\n",
       "      <td>1103</td>\n",
       "    </tr>\n",
       "    <tr>\n",
       "      <th>...</th>\n",
       "      <td>...</td>\n",
       "      <td>...</td>\n",
       "    </tr>\n",
       "    <tr>\n",
       "      <th>9</th>\n",
       "      <td>75</td>\n",
       "      <td>507</td>\n",
       "    </tr>\n",
       "    <tr>\n",
       "      <th>10</th>\n",
       "      <td>41</td>\n",
       "      <td>409</td>\n",
       "    </tr>\n",
       "    <tr>\n",
       "      <th>11</th>\n",
       "      <td>31</td>\n",
       "      <td>326</td>\n",
       "    </tr>\n",
       "    <tr>\n",
       "      <th>12</th>\n",
       "      <td>27</td>\n",
       "      <td>264</td>\n",
       "    </tr>\n",
       "    <tr>\n",
       "      <th>13</th>\n",
       "      <td>14</td>\n",
       "      <td>263</td>\n",
       "    </tr>\n",
       "  </tbody>\n",
       "</table>\n",
       "<p>13 rows × 2 columns</p>\n",
       "</div>"
      ],
      "text/plain": [
       "greater_than_5_sessions     0     1\n",
       "articles_viewed                    \n",
       "1                        4001  2209\n",
       "2                        2197  1808\n",
       "3                        1177  1571\n",
       "4                         698  1293\n",
       "5                         451  1103\n",
       "...                       ...   ...\n",
       "9                          75   507\n",
       "10                         41   409\n",
       "11                         31   326\n",
       "12                         27   264\n",
       "13                         14   263\n",
       "\n",
       "[13 rows x 2 columns]"
      ]
     },
     "execution_count": 34,
     "metadata": {},
     "output_type": "execute_result"
    }
   ],
   "source": [
    "pd.crosstab(df.articles_viewed, df.greater_than_5_sessions)"
   ]
  },
  {
   "cell_type": "code",
   "execution_count": 35,
   "metadata": {
    "collapsed": false
   },
   "outputs": [
    {
     "data": {
      "text/html": [
       "<div>\n",
       "<table border=\"1\" class=\"dataframe\">\n",
       "  <thead>\n",
       "    <tr style=\"text-align: right;\">\n",
       "      <th>greater_than_5_sessions</th>\n",
       "      <th>0</th>\n",
       "      <th>1</th>\n",
       "    </tr>\n",
       "    <tr>\n",
       "      <th>streams_added</th>\n",
       "      <th></th>\n",
       "      <th></th>\n",
       "    </tr>\n",
       "  </thead>\n",
       "  <tbody>\n",
       "    <tr>\n",
       "      <th>1</th>\n",
       "      <td>911</td>\n",
       "      <td>224</td>\n",
       "    </tr>\n",
       "    <tr>\n",
       "      <th>2</th>\n",
       "      <td>542</td>\n",
       "      <td>186</td>\n",
       "    </tr>\n",
       "    <tr>\n",
       "      <th>3</th>\n",
       "      <td>486</td>\n",
       "      <td>190</td>\n",
       "    </tr>\n",
       "    <tr>\n",
       "      <th>4</th>\n",
       "      <td>618</td>\n",
       "      <td>298</td>\n",
       "    </tr>\n",
       "    <tr>\n",
       "      <th>5</th>\n",
       "      <td>772</td>\n",
       "      <td>394</td>\n",
       "    </tr>\n",
       "    <tr>\n",
       "      <th>...</th>\n",
       "      <td>...</td>\n",
       "      <td>...</td>\n",
       "    </tr>\n",
       "    <tr>\n",
       "      <th>129</th>\n",
       "      <td>2</td>\n",
       "      <td>20</td>\n",
       "    </tr>\n",
       "    <tr>\n",
       "      <th>130</th>\n",
       "      <td>0</td>\n",
       "      <td>17</td>\n",
       "    </tr>\n",
       "    <tr>\n",
       "      <th>131</th>\n",
       "      <td>1</td>\n",
       "      <td>19</td>\n",
       "    </tr>\n",
       "    <tr>\n",
       "      <th>132</th>\n",
       "      <td>1</td>\n",
       "      <td>25</td>\n",
       "    </tr>\n",
       "    <tr>\n",
       "      <th>133</th>\n",
       "      <td>2</td>\n",
       "      <td>13</td>\n",
       "    </tr>\n",
       "  </tbody>\n",
       "</table>\n",
       "<p>133 rows × 2 columns</p>\n",
       "</div>"
      ],
      "text/plain": [
       "greater_than_5_sessions    0    1\n",
       "streams_added                    \n",
       "1                        911  224\n",
       "2                        542  186\n",
       "3                        486  190\n",
       "4                        618  298\n",
       "5                        772  394\n",
       "...                      ...  ...\n",
       "129                        2   20\n",
       "130                        0   17\n",
       "131                        1   19\n",
       "132                        1   25\n",
       "133                        2   13\n",
       "\n",
       "[133 rows x 2 columns]"
      ]
     },
     "execution_count": 35,
     "metadata": {},
     "output_type": "execute_result"
    }
   ],
   "source": [
    "pd.crosstab(df.streams_added, df.greater_than_5_sessions)"
   ]
  },
  {
   "cell_type": "markdown",
   "metadata": {},
   "source": [
    "Checking for Normality"
   ]
  },
  {
   "cell_type": "code",
   "execution_count": 36,
   "metadata": {
    "collapsed": false
   },
   "outputs": [
    {
     "data": {
      "image/png": "[encoded data removed]",
      "text/plain": [
       "<matplotlib.figure.Figure at 0x11b769350>"
      ]
     },
     "execution_count": 36,
     "metadata": {},
     "output_type": "execute_result"
    },
    {
     "data": {
      "image/png": "[encoded data removed]",
      "text/plain": [
       "<matplotlib.figure.Figure at 0x11b769350>"
      ]
     },
     "metadata": {},
     "output_type": "display_data"
    }
   ],
   "source": [
    "sm.qqplot(df.streams_added, line = 's')"
   ]
  },
  {
   "cell_type": "code",
   "execution_count": 37,
   "metadata": {
    "collapsed": false
   },
   "outputs": [
    {
     "data": {
      "image/png": "[encoded data removed]",
      "text/plain": [
       "<matplotlib.figure.Figure at 0x1185cf0d0>"
      ]
     },
     "execution_count": 37,
     "metadata": {},
     "output_type": "execute_result"
    },
    {
     "data": {
      "image/png": "[encoded data removed]",
      "text/plain": [
       "<matplotlib.figure.Figure at 0x1185cf0d0>"
      ]
     },
     "metadata": {},
     "output_type": "display_data"
    }
   ],
   "source": [
    "sm.qqplot(df.articles_viewed, line = 's')"
   ]
  },
  {
   "cell_type": "markdown",
   "metadata": {},
   "source": [
    "Feature Engineering"
   ]
  },
  {
   "cell_type": "code",
   "execution_count": 38,
   "metadata": {
    "collapsed": false
   },
   "outputs": [
    {
     "data": {
      "image/png": "[encoded data removed]",
      "text/plain": [
       "<matplotlib.figure.Figure at 0x11cd332d0>"
      ]
     },
     "metadata": {},
     "output_type": "display_data"
    }
   ],
   "source": [
    "sm.qqplot(df.streams_added.apply(lambda x: np.log(1 + x)), line = 's')\n",
    "\n",
    "\n",
    "pass"
   ]
  },
  {
   "cell_type": "code",
   "execution_count": 39,
   "metadata": {
    "collapsed": false
   },
   "outputs": [
    {
     "data": {
      "image/png": "[encoded data removed]",
      "text/plain": [
       "<matplotlib.figure.Figure at 0x11e8cd690>"
      ]
     },
     "metadata": {},
     "output_type": "display_data"
    }
   ],
   "source": [
    "sm.qqplot(df.articles_viewed.apply(lambda x: np.log(1 + x)), line = 's')\n",
    "\n",
    "pass"
   ]
  },
  {
   "cell_type": "code",
   "execution_count": 40,
   "metadata": {
    "collapsed": false
   },
   "outputs": [
    {
     "data": {
      "text/plain": [
       "user_identities.identity\n",
       "4.32E+17                            1.000000\n",
       "2.39E+18                            0.200000\n",
       "5.27E+18                            0.400000\n",
       "0000000000000a419698266553970235    1.000000\n",
       "000000000000a6409315927365159953    0.125000\n",
       "                                      ...   \n",
       "ffedae157fae4875b0325db40c81ec81    0.108696\n",
       "ffeeaa76195841efab257d819dac7bbb    0.074074\n",
       "fff16bbe71f74b06a2e0b58186be2db9    0.200000\n",
       "fff8033f52ac4d67ae61f2e70559e681    0.666667\n",
       "fffc6535ff9441ee81e321e95374ed77    0.071429\n",
       "dtype: float64"
      ]
     },
     "execution_count": 40,
     "metadata": {},
     "output_type": "execute_result"
    }
   ],
   "source": [
    "articles_per_stream = df.articles_viewed / df.streams_added\n",
    "articles_per_stream"
   ]
  },
  {
   "cell_type": "code",
   "execution_count": 41,
   "metadata": {
    "collapsed": false
   },
   "outputs": [
    {
     "data": {
      "image/png": "[encoded data removed]",
      "text/plain": [
       "<matplotlib.figure.Figure at 0x11ec9e7d0>"
      ]
     },
     "metadata": {},
     "output_type": "display_data"
    }
   ],
   "source": [
    "sm.qqplot(articles_per_stream, line = 's')\n",
    "\n",
    "pass"
   ]
  },
  {
   "cell_type": "markdown",
   "metadata": {},
   "source": [
    "Saving engineered feature variables for later..."
   ]
  },
  {
   "cell_type": "code",
   "execution_count": 42,
   "metadata": {
    "collapsed": false
   },
   "outputs": [],
   "source": [
    "streams_added_eng = df.streams_added.apply(lambda x: np.log(1 + x))"
   ]
  },
  {
   "cell_type": "code",
   "execution_count": 43,
   "metadata": {
    "collapsed": true
   },
   "outputs": [],
   "source": [
    "articles_viewed_eng = df.articles_viewed.apply(lambda x: np.log(1 + x))"
   ]
  },
  {
   "cell_type": "markdown",
   "metadata": {},
   "source": [
    "Setting up training and test set"
   ]
  },
  {
   "cell_type": "code",
   "execution_count": 44,
   "metadata": {
    "collapsed": true
   },
   "outputs": [],
   "source": [
    "X = df[df.columns.values]\n",
    "X.drop('greater_than_5_sessions', axis = 1, inplace = True)\n",
    "\n",
    "y = df.greater_than_5_sessions"
   ]
  },
  {
   "cell_type": "code",
   "execution_count": 45,
   "metadata": {
    "collapsed": true
   },
   "outputs": [],
   "source": [
    "train_X, test_X, train_y, test_y = cross_validation.train_test_split(X, y, train_size = .6, random_state = 0)"
   ]
  },
  {
   "cell_type": "markdown",
   "metadata": {},
   "source": [
    "Running Decision Tree with Feature Importance"
   ]
  },
  {
   "cell_type": "code",
   "execution_count": 46,
   "metadata": {
    "collapsed": true
   },
   "outputs": [],
   "source": [
    "from sklearn import tree, ensemble, metrics, cross_validation, externals"
   ]
  },
  {
   "cell_type": "code",
   "execution_count": 47,
   "metadata": {
    "collapsed": true
   },
   "outputs": [],
   "source": [
    "model = tree.DecisionTreeRegressor(random_state = 0).\\\n",
    "    fit(train_X, train_y)"
   ]
  },
  {
   "cell_type": "code",
   "execution_count": 48,
   "metadata": {
    "collapsed": false
   },
   "outputs": [
    {
     "name": "stdout",
     "output_type": "stream",
     "text": [
      "0.401564754718\n"
     ]
    }
   ],
   "source": [
    "train_y_hat = model.predict(train_X)\n",
    "print np.sqrt(metrics.mean_squared_error(train_y, train_y_hat))"
   ]
  },
  {
   "cell_type": "code",
   "execution_count": 49,
   "metadata": {
    "collapsed": false
   },
   "outputs": [
    {
     "data": {
      "text/plain": [
       "[(0.6821347511632101, 'streams_added'),\n",
       " (0.31786524883679002, 'articles_viewed')]"
      ]
     },
     "execution_count": 49,
     "metadata": {},
     "output_type": "execute_result"
    }
   ],
   "source": [
    "sorted(zip(model.feature_importances_, X.columns.values), reverse = True)"
   ]
  },
  {
   "cell_type": "code",
   "execution_count": 50,
   "metadata": {
    "collapsed": false
   },
   "outputs": [
    {
     "data": {
      "text/plain": [
       "0.23622385776101601"
      ]
     },
     "execution_count": 50,
     "metadata": {},
     "output_type": "execute_result"
    }
   ],
   "source": [
    "cross_validation.cross_val_score(model, train_X, train_y, cv = 10).mean()"
   ]
  },
  {
   "cell_type": "markdown",
   "metadata": {
    "collapsed": true
   },
   "source": [
    "Both features explain a fair amount of the variance, so going to keep both and run Logistic Regression."
   ]
  },
  {
   "cell_type": "code",
   "execution_count": 51,
   "metadata": {
    "collapsed": false
   },
   "outputs": [],
   "source": [
    "model = linear_model.LogisticRegression().\\\n",
    "    fit(train_X, train_y)"
   ]
  },
  {
   "cell_type": "code",
   "execution_count": 52,
   "metadata": {
    "collapsed": false
   },
   "outputs": [
    {
     "name": "stdout",
     "output_type": "stream",
     "text": [
      "[ 0.18468435]\n",
      "[[ 1.3486749   1.04257393]]\n"
     ]
    }
   ],
   "source": [
    "print np.exp(model.intercept_)\n",
    "print np.exp(model.coef_)"
   ]
  },
  {
   "cell_type": "code",
   "execution_count": 53,
   "metadata": {
    "collapsed": false
   },
   "outputs": [
    {
     "data": {
      "text/plain": [
       "0.7370733621027854"
      ]
     },
     "execution_count": 53,
     "metadata": {},
     "output_type": "execute_result"
    }
   ],
   "source": [
    "model.score(train_X, train_y)"
   ]
  },
  {
   "cell_type": "code",
   "execution_count": 54,
   "metadata": {
    "collapsed": false
   },
   "outputs": [
    {
     "data": {
      "text/html": [
       "<div>\n",
       "<table border=\"1\" class=\"dataframe\">\n",
       "  <thead>\n",
       "    <tr style=\"text-align: right;\">\n",
       "      <th>True Class</th>\n",
       "      <th>0</th>\n",
       "      <th>1</th>\n",
       "    </tr>\n",
       "    <tr>\n",
       "      <th>Hypothesized Class</th>\n",
       "      <th></th>\n",
       "      <th></th>\n",
       "    </tr>\n",
       "  </thead>\n",
       "  <tbody>\n",
       "    <tr>\n",
       "      <th>0</th>\n",
       "      <td>4203</td>\n",
       "      <td>1960</td>\n",
       "    </tr>\n",
       "    <tr>\n",
       "      <th>1</th>\n",
       "      <td>1391</td>\n",
       "      <td>5191</td>\n",
       "    </tr>\n",
       "  </tbody>\n",
       "</table>\n",
       "</div>"
      ],
      "text/plain": [
       "True Class             0     1\n",
       "Hypothesized Class            \n",
       "0                   4203  1960\n",
       "1                   1391  5191"
      ]
     },
     "execution_count": 54,
     "metadata": {},
     "output_type": "execute_result"
    }
   ],
   "source": [
    "y_hat = model.predict(train_X)\n",
    "\n",
    "pd.crosstab(y_hat,\n",
    "    train_y,\n",
    "    rownames = ['Hypothesized Class'],\n",
    "    colnames = ['True Class'])"
   ]
  },
  {
   "cell_type": "markdown",
   "metadata": {},
   "source": [
    "Re-running with 1 feature"
   ]
  },
  {
   "cell_type": "code",
   "execution_count": 55,
   "metadata": {
    "collapsed": false
   },
   "outputs": [],
   "source": [
    "X = df[df.columns.values]\n",
    "X.drop(['greater_than_5_sessions', 'articles_viewed'], axis = 1, inplace = True)\n",
    "\n",
    "y = df.greater_than_5_sessions"
   ]
  },
  {
   "cell_type": "code",
   "execution_count": 56,
   "metadata": {
    "collapsed": true
   },
   "outputs": [],
   "source": [
    "train_X, test_X, train_y, test_y = cross_validation.train_test_split(X, y, train_size = .6, random_state = 0)"
   ]
  },
  {
   "cell_type": "code",
   "execution_count": 57,
   "metadata": {
    "collapsed": false
   },
   "outputs": [
    {
     "data": {
      "text/html": [
       "<div>\n",
       "<table border=\"1\" class=\"dataframe\">\n",
       "  <thead>\n",
       "    <tr style=\"text-align: right;\">\n",
       "      <th></th>\n",
       "      <th>streams_added</th>\n",
       "    </tr>\n",
       "    <tr>\n",
       "      <th>user_identities.identity</th>\n",
       "      <th></th>\n",
       "    </tr>\n",
       "  </thead>\n",
       "  <tbody>\n",
       "    <tr>\n",
       "      <th>646930ea0a3b47bbb3dd2754a8f7f148</th>\n",
       "      <td>23</td>\n",
       "    </tr>\n",
       "    <tr>\n",
       "      <th>b85bae42a4864880850c7b6967f3adbc</th>\n",
       "      <td>5</td>\n",
       "    </tr>\n",
       "    <tr>\n",
       "      <th>009bd0dc35c54bf2b839bbc751fa1635</th>\n",
       "      <td>3</td>\n",
       "    </tr>\n",
       "    <tr>\n",
       "      <th>f14b484ebbe14055a057f9bcac9fdebe</th>\n",
       "      <td>43</td>\n",
       "    </tr>\n",
       "    <tr>\n",
       "      <th>e9d692203c24482b981555713e9efa5e</th>\n",
       "      <td>5</td>\n",
       "    </tr>\n",
       "    <tr>\n",
       "      <th>...</th>\n",
       "      <td>...</td>\n",
       "    </tr>\n",
       "    <tr>\n",
       "      <th>9d48e6380f404edebc555965c55f18bf</th>\n",
       "      <td>5</td>\n",
       "    </tr>\n",
       "    <tr>\n",
       "      <th>ed22425dd5a14f2db169ff3960f38c17</th>\n",
       "      <td>7</td>\n",
       "    </tr>\n",
       "    <tr>\n",
       "      <th>76ba4a45543e4268a50c11a2890c30a9</th>\n",
       "      <td>78</td>\n",
       "    </tr>\n",
       "    <tr>\n",
       "      <th>81e59720140f49049fa4306298978ae3</th>\n",
       "      <td>5</td>\n",
       "    </tr>\n",
       "    <tr>\n",
       "      <th>20c79d212b6343da82182b889c022e15</th>\n",
       "      <td>8</td>\n",
       "    </tr>\n",
       "  </tbody>\n",
       "</table>\n",
       "<p>12745 rows × 1 columns</p>\n",
       "</div>"
      ],
      "text/plain": [
       "                                  streams_added\n",
       "user_identities.identity                       \n",
       "646930ea0a3b47bbb3dd2754a8f7f148             23\n",
       "b85bae42a4864880850c7b6967f3adbc              5\n",
       "009bd0dc35c54bf2b839bbc751fa1635              3\n",
       "f14b484ebbe14055a057f9bcac9fdebe             43\n",
       "e9d692203c24482b981555713e9efa5e              5\n",
       "...                                         ...\n",
       "9d48e6380f404edebc555965c55f18bf              5\n",
       "ed22425dd5a14f2db169ff3960f38c17              7\n",
       "76ba4a45543e4268a50c11a2890c30a9             78\n",
       "81e59720140f49049fa4306298978ae3              5\n",
       "20c79d212b6343da82182b889c022e15              8\n",
       "\n",
       "[12745 rows x 1 columns]"
      ]
     },
     "execution_count": 57,
     "metadata": {},
     "output_type": "execute_result"
    }
   ],
   "source": [
    "train_X"
   ]
  },
  {
   "cell_type": "code",
   "execution_count": 58,
   "metadata": {
    "collapsed": true
   },
   "outputs": [],
   "source": [
    "model = linear_model.LogisticRegression().\\\n",
    "    fit(train_X, train_y)"
   ]
  },
  {
   "cell_type": "code",
   "execution_count": 59,
   "metadata": {
    "collapsed": false
   },
   "outputs": [
    {
     "name": "stdout",
     "output_type": "stream",
     "text": [
      "[ 0.46020328]\n",
      "[[ 1.04642719]]\n"
     ]
    }
   ],
   "source": [
    "print np.exp(model.intercept_)\n",
    "print np.exp(model.coef_)"
   ]
  },
  {
   "cell_type": "code",
   "execution_count": 60,
   "metadata": {
    "collapsed": false
   },
   "outputs": [
    {
     "data": {
      "text/plain": [
       "0.69776382895253042"
      ]
     },
     "execution_count": 60,
     "metadata": {},
     "output_type": "execute_result"
    }
   ],
   "source": [
    "model.score(train_X, train_y)"
   ]
  },
  {
   "cell_type": "code",
   "execution_count": 61,
   "metadata": {
    "collapsed": false
   },
   "outputs": [
    {
     "data": {
      "text/html": [
       "<div>\n",
       "<table border=\"1\" class=\"dataframe\">\n",
       "  <thead>\n",
       "    <tr style=\"text-align: right;\">\n",
       "      <th>True Class</th>\n",
       "      <th>0</th>\n",
       "      <th>1</th>\n",
       "    </tr>\n",
       "    <tr>\n",
       "      <th>Hypothesized Class</th>\n",
       "      <th></th>\n",
       "      <th></th>\n",
       "    </tr>\n",
       "  </thead>\n",
       "  <tbody>\n",
       "    <tr>\n",
       "      <th>0</th>\n",
       "      <td>4255</td>\n",
       "      <td>2513</td>\n",
       "    </tr>\n",
       "    <tr>\n",
       "      <th>1</th>\n",
       "      <td>1339</td>\n",
       "      <td>4638</td>\n",
       "    </tr>\n",
       "  </tbody>\n",
       "</table>\n",
       "</div>"
      ],
      "text/plain": [
       "True Class             0     1\n",
       "Hypothesized Class            \n",
       "0                   4255  2513\n",
       "1                   1339  4638"
      ]
     },
     "execution_count": 61,
     "metadata": {},
     "output_type": "execute_result"
    }
   ],
   "source": [
    "y_hat = model.predict(train_X)\n",
    "\n",
    "pd.crosstab(y_hat,\n",
    "    train_y,\n",
    "    rownames = ['Hypothesized Class'],\n",
    "    colnames = ['True Class'])"
   ]
  },
  {
   "cell_type": "markdown",
   "metadata": {},
   "source": [
    "Re-running model with engineered features"
   ]
  },
  {
   "cell_type": "code",
   "execution_count": 62,
   "metadata": {
    "collapsed": false
   },
   "outputs": [],
   "source": [
    "df['streams_added'] = df.streams_added.apply(lambda x: np.log(1 + x))\n",
    "df['articles_viewed'] = df.articles_viewed.apply(lambda x: np.log(1 + x))"
   ]
  },
  {
   "cell_type": "code",
   "execution_count": 63,
   "metadata": {
    "collapsed": false
   },
   "outputs": [
    {
     "data": {
      "text/html": [
       "<div>\n",
       "<table border=\"1\" class=\"dataframe\">\n",
       "  <thead>\n",
       "    <tr style=\"text-align: right;\">\n",
       "      <th></th>\n",
       "      <th>articles_viewed</th>\n",
       "      <th>streams_added</th>\n",
       "      <th>greater_than_5_sessions</th>\n",
       "    </tr>\n",
       "    <tr>\n",
       "      <th>user_identities.identity</th>\n",
       "      <th></th>\n",
       "      <th></th>\n",
       "      <th></th>\n",
       "    </tr>\n",
       "  </thead>\n",
       "  <tbody>\n",
       "    <tr>\n",
       "      <th>4.32E+17</th>\n",
       "      <td>0.693147</td>\n",
       "      <td>0.693147</td>\n",
       "      <td>0</td>\n",
       "    </tr>\n",
       "    <tr>\n",
       "      <th>2.39E+18</th>\n",
       "      <td>0.693147</td>\n",
       "      <td>1.791759</td>\n",
       "      <td>0</td>\n",
       "    </tr>\n",
       "    <tr>\n",
       "      <th>5.27E+18</th>\n",
       "      <td>1.098612</td>\n",
       "      <td>1.791759</td>\n",
       "      <td>0</td>\n",
       "    </tr>\n",
       "    <tr>\n",
       "      <th>0000000000000a419698266553970235</th>\n",
       "      <td>1.386294</td>\n",
       "      <td>1.386294</td>\n",
       "      <td>0</td>\n",
       "    </tr>\n",
       "    <tr>\n",
       "      <th>000000000000a6409315927365159953</th>\n",
       "      <td>0.693147</td>\n",
       "      <td>2.197225</td>\n",
       "      <td>0</td>\n",
       "    </tr>\n",
       "    <tr>\n",
       "      <th>...</th>\n",
       "      <td>...</td>\n",
       "      <td>...</td>\n",
       "      <td>...</td>\n",
       "    </tr>\n",
       "    <tr>\n",
       "      <th>ffedae157fae4875b0325db40c81ec81</th>\n",
       "      <td>1.791759</td>\n",
       "      <td>3.850148</td>\n",
       "      <td>1</td>\n",
       "    </tr>\n",
       "    <tr>\n",
       "      <th>ffeeaa76195841efab257d819dac7bbb</th>\n",
       "      <td>1.098612</td>\n",
       "      <td>3.332205</td>\n",
       "      <td>1</td>\n",
       "    </tr>\n",
       "    <tr>\n",
       "      <th>fff16bbe71f74b06a2e0b58186be2db9</th>\n",
       "      <td>0.693147</td>\n",
       "      <td>1.791759</td>\n",
       "      <td>0</td>\n",
       "    </tr>\n",
       "    <tr>\n",
       "      <th>fff8033f52ac4d67ae61f2e70559e681</th>\n",
       "      <td>1.098612</td>\n",
       "      <td>1.386294</td>\n",
       "      <td>0</td>\n",
       "    </tr>\n",
       "    <tr>\n",
       "      <th>fffc6535ff9441ee81e321e95374ed77</th>\n",
       "      <td>1.098612</td>\n",
       "      <td>3.367296</td>\n",
       "      <td>1</td>\n",
       "    </tr>\n",
       "  </tbody>\n",
       "</table>\n",
       "<p>21242 rows × 3 columns</p>\n",
       "</div>"
      ],
      "text/plain": [
       "                                  articles_viewed  streams_added  \\\n",
       "user_identities.identity                                           \n",
       "4.32E+17                                 0.693147       0.693147   \n",
       "2.39E+18                                 0.693147       1.791759   \n",
       "5.27E+18                                 1.098612       1.791759   \n",
       "0000000000000a419698266553970235         1.386294       1.386294   \n",
       "000000000000a6409315927365159953         0.693147       2.197225   \n",
       "...                                           ...            ...   \n",
       "ffedae157fae4875b0325db40c81ec81         1.791759       3.850148   \n",
       "ffeeaa76195841efab257d819dac7bbb         1.098612       3.332205   \n",
       "fff16bbe71f74b06a2e0b58186be2db9         0.693147       1.791759   \n",
       "fff8033f52ac4d67ae61f2e70559e681         1.098612       1.386294   \n",
       "fffc6535ff9441ee81e321e95374ed77         1.098612       3.367296   \n",
       "\n",
       "                                  greater_than_5_sessions  \n",
       "user_identities.identity                                   \n",
       "4.32E+17                                                0  \n",
       "2.39E+18                                                0  \n",
       "5.27E+18                                                0  \n",
       "0000000000000a419698266553970235                        0  \n",
       "000000000000a6409315927365159953                        0  \n",
       "...                                                   ...  \n",
       "ffedae157fae4875b0325db40c81ec81                        1  \n",
       "ffeeaa76195841efab257d819dac7bbb                        1  \n",
       "fff16bbe71f74b06a2e0b58186be2db9                        0  \n",
       "fff8033f52ac4d67ae61f2e70559e681                        0  \n",
       "fffc6535ff9441ee81e321e95374ed77                        1  \n",
       "\n",
       "[21242 rows x 3 columns]"
      ]
     },
     "execution_count": 63,
     "metadata": {},
     "output_type": "execute_result"
    }
   ],
   "source": [
    "df"
   ]
  },
  {
   "cell_type": "code",
   "execution_count": 64,
   "metadata": {
    "collapsed": true
   },
   "outputs": [],
   "source": [
    "X = df[df.columns.values]\n",
    "X.drop('greater_than_5_sessions', axis = 1, inplace = True)\n",
    "\n",
    "y = df.greater_than_5_sessions"
   ]
  },
  {
   "cell_type": "code",
   "execution_count": 65,
   "metadata": {
    "collapsed": true
   },
   "outputs": [],
   "source": [
    "train_X, test_X, train_y, test_y = cross_validation.train_test_split(X, y, train_size = .6, random_state = 0)"
   ]
  },
  {
   "cell_type": "code",
   "execution_count": 66,
   "metadata": {
    "collapsed": false
   },
   "outputs": [
    {
     "data": {
      "text/html": [
       "<div>\n",
       "<table border=\"1\" class=\"dataframe\">\n",
       "  <thead>\n",
       "    <tr style=\"text-align: right;\">\n",
       "      <th></th>\n",
       "      <th>articles_viewed</th>\n",
       "      <th>streams_added</th>\n",
       "    </tr>\n",
       "    <tr>\n",
       "      <th>user_identities.identity</th>\n",
       "      <th></th>\n",
       "      <th></th>\n",
       "    </tr>\n",
       "  </thead>\n",
       "  <tbody>\n",
       "    <tr>\n",
       "      <th>646930ea0a3b47bbb3dd2754a8f7f148</th>\n",
       "      <td>1.945910</td>\n",
       "      <td>3.178054</td>\n",
       "    </tr>\n",
       "    <tr>\n",
       "      <th>b85bae42a4864880850c7b6967f3adbc</th>\n",
       "      <td>1.609438</td>\n",
       "      <td>1.791759</td>\n",
       "    </tr>\n",
       "    <tr>\n",
       "      <th>009bd0dc35c54bf2b839bbc751fa1635</th>\n",
       "      <td>1.098612</td>\n",
       "      <td>1.386294</td>\n",
       "    </tr>\n",
       "    <tr>\n",
       "      <th>f14b484ebbe14055a057f9bcac9fdebe</th>\n",
       "      <td>1.945910</td>\n",
       "      <td>3.784190</td>\n",
       "    </tr>\n",
       "    <tr>\n",
       "      <th>e9d692203c24482b981555713e9efa5e</th>\n",
       "      <td>2.079442</td>\n",
       "      <td>1.791759</td>\n",
       "    </tr>\n",
       "    <tr>\n",
       "      <th>...</th>\n",
       "      <td>...</td>\n",
       "      <td>...</td>\n",
       "    </tr>\n",
       "    <tr>\n",
       "      <th>9d48e6380f404edebc555965c55f18bf</th>\n",
       "      <td>2.302585</td>\n",
       "      <td>1.791759</td>\n",
       "    </tr>\n",
       "    <tr>\n",
       "      <th>ed22425dd5a14f2db169ff3960f38c17</th>\n",
       "      <td>1.609438</td>\n",
       "      <td>2.079442</td>\n",
       "    </tr>\n",
       "    <tr>\n",
       "      <th>76ba4a45543e4268a50c11a2890c30a9</th>\n",
       "      <td>2.197225</td>\n",
       "      <td>4.369448</td>\n",
       "    </tr>\n",
       "    <tr>\n",
       "      <th>81e59720140f49049fa4306298978ae3</th>\n",
       "      <td>1.945910</td>\n",
       "      <td>1.791759</td>\n",
       "    </tr>\n",
       "    <tr>\n",
       "      <th>20c79d212b6343da82182b889c022e15</th>\n",
       "      <td>0.693147</td>\n",
       "      <td>2.197225</td>\n",
       "    </tr>\n",
       "  </tbody>\n",
       "</table>\n",
       "<p>12745 rows × 2 columns</p>\n",
       "</div>"
      ],
      "text/plain": [
       "                                  articles_viewed  streams_added\n",
       "user_identities.identity                                        \n",
       "646930ea0a3b47bbb3dd2754a8f7f148         1.945910       3.178054\n",
       "b85bae42a4864880850c7b6967f3adbc         1.609438       1.791759\n",
       "009bd0dc35c54bf2b839bbc751fa1635         1.098612       1.386294\n",
       "f14b484ebbe14055a057f9bcac9fdebe         1.945910       3.784190\n",
       "e9d692203c24482b981555713e9efa5e         2.079442       1.791759\n",
       "...                                           ...            ...\n",
       "9d48e6380f404edebc555965c55f18bf         2.302585       1.791759\n",
       "ed22425dd5a14f2db169ff3960f38c17         1.609438       2.079442\n",
       "76ba4a45543e4268a50c11a2890c30a9         2.197225       4.369448\n",
       "81e59720140f49049fa4306298978ae3         1.945910       1.791759\n",
       "20c79d212b6343da82182b889c022e15         0.693147       2.197225\n",
       "\n",
       "[12745 rows x 2 columns]"
      ]
     },
     "execution_count": 66,
     "metadata": {},
     "output_type": "execute_result"
    }
   ],
   "source": [
    "train_X"
   ]
  },
  {
   "cell_type": "code",
   "execution_count": 67,
   "metadata": {
    "collapsed": true
   },
   "outputs": [],
   "source": [
    "model = linear_model.LogisticRegression().\\\n",
    "    fit(train_X, train_y)"
   ]
  },
  {
   "cell_type": "code",
   "execution_count": 68,
   "metadata": {
    "collapsed": false
   },
   "outputs": [
    {
     "name": "stdout",
     "output_type": "stream",
     "text": [
      "[ 0.01530738]\n",
      "[[ 3.95730089  2.5831387 ]]\n"
     ]
    }
   ],
   "source": [
    "print np.exp(model.intercept_)\n",
    "print np.exp(model.coef_)"
   ]
  },
  {
   "cell_type": "code",
   "execution_count": 69,
   "metadata": {
    "collapsed": false
   },
   "outputs": [
    {
     "data": {
      "text/plain": [
       "0.74225186347587291"
      ]
     },
     "execution_count": 69,
     "metadata": {},
     "output_type": "execute_result"
    }
   ],
   "source": [
    "model.score(train_X, train_y)"
   ]
  },
  {
   "cell_type": "code",
   "execution_count": 70,
   "metadata": {
    "collapsed": false
   },
   "outputs": [
    {
     "data": {
      "text/html": [
       "<div>\n",
       "<table border=\"1\" class=\"dataframe\">\n",
       "  <thead>\n",
       "    <tr style=\"text-align: right;\">\n",
       "      <th>True Class</th>\n",
       "      <th>0</th>\n",
       "      <th>1</th>\n",
       "    </tr>\n",
       "    <tr>\n",
       "      <th>Hypothesized Class</th>\n",
       "      <th></th>\n",
       "      <th></th>\n",
       "    </tr>\n",
       "  </thead>\n",
       "  <tbody>\n",
       "    <tr>\n",
       "      <th>0</th>\n",
       "      <td>3783</td>\n",
       "      <td>1474</td>\n",
       "    </tr>\n",
       "    <tr>\n",
       "      <th>1</th>\n",
       "      <td>1811</td>\n",
       "      <td>5677</td>\n",
       "    </tr>\n",
       "  </tbody>\n",
       "</table>\n",
       "</div>"
      ],
      "text/plain": [
       "True Class             0     1\n",
       "Hypothesized Class            \n",
       "0                   3783  1474\n",
       "1                   1811  5677"
      ]
     },
     "execution_count": 70,
     "metadata": {},
     "output_type": "execute_result"
    }
   ],
   "source": [
    "y_hat = model.predict(train_X)\n",
    "\n",
    "pd.crosstab(y_hat,\n",
    "    train_y,\n",
    "    rownames = ['Hypothesized Class'],\n",
    "    colnames = ['True Class'])"
   ]
  },
  {
   "cell_type": "code",
   "execution_count": 71,
   "metadata": {
    "collapsed": false
   },
   "outputs": [
    {
     "data": {
      "text/plain": [
       "0.73331764152053669"
      ]
     },
     "execution_count": 71,
     "metadata": {},
     "output_type": "execute_result"
    }
   ],
   "source": [
    "model.score(test_X, test_y)"
   ]
  },
  {
   "cell_type": "code",
   "execution_count": 72,
   "metadata": {
    "collapsed": false
   },
   "outputs": [
    {
     "name": "stdout",
     "output_type": "stream",
     "text": [
      "training misclassification = 0.257748136524\n",
      "testing  misclassification = 0.266682358479\n"
     ]
    }
   ],
   "source": [
    "print 'training misclassification =', 1 - model.score(train_X, train_y)\n",
    "print 'testing  misclassification =', 1 - model.score(test_X, test_y)"
   ]
  },
  {
   "cell_type": "code",
   "execution_count": 75,
   "metadata": {
    "collapsed": false
   },
   "outputs": [
    {
     "name": "stdout",
     "output_type": "stream",
     "text": [
      "[0]\n",
      "[[ 0.96196294  0.03803706]]\n"
     ]
    }
   ],
   "source": [
    "predict_1 = [ [0,1] ]\n",
    "\n",
    "print model.predict(predict_1)\n",
    "print model.predict_proba(predict_1)"
   ]
  },
  {
   "cell_type": "code",
   "execution_count": 76,
   "metadata": {
    "collapsed": false
   },
   "outputs": [
    {
     "name": "stdout",
     "output_type": "stream",
     "text": [
      "[0]\n",
      "[[ 0.90732565  0.09267435]]\n"
     ]
    }
   ],
   "source": [
    "predict_2 = [ [0,2] ]\n",
    "\n",
    "print model.predict(predict_2)\n",
    "print model.predict_proba(predict_2)"
   ]
  },
  {
   "cell_type": "code",
   "execution_count": 77,
   "metadata": {
    "collapsed": false
   },
   "outputs": [
    {
     "name": "stdout",
     "output_type": "stream",
     "text": [
      "[0]\n",
      "[[ 0.79123809  0.20876191]]\n"
     ]
    }
   ],
   "source": [
    "predict_3 = [ [0,3] ]\n",
    "\n",
    "print model.predict(predict_3)\n",
    "print model.predict_proba(predict_3)"
   ]
  },
  {
   "cell_type": "code",
   "execution_count": 78,
   "metadata": {
    "collapsed": false
   },
   "outputs": [
    {
     "name": "stdout",
     "output_type": "stream",
     "text": [
      "[0]\n",
      "[[ 0.5946927  0.4053073]]\n"
     ]
    }
   ],
   "source": [
    "predict_4 = [ [0,4] ]\n",
    "\n",
    "print model.predict(predict_4)\n",
    "print model.predict_proba(predict_4)"
   ]
  },
  {
   "cell_type": "code",
   "execution_count": 79,
   "metadata": {
    "collapsed": false
   },
   "outputs": [
    {
     "name": "stdout",
     "output_type": "stream",
     "text": [
      "[1]\n",
      "[[ 0.18025643  0.81974357]]\n"
     ]
    }
   ],
   "source": [
    "predict_5 = [ [0,6] ]\n",
    "\n",
    "print model.predict(predict_5)\n",
    "print model.predict_proba(predict_5)"
   ]
  },
  {
   "cell_type": "code",
   "execution_count": 99,
   "metadata": {
    "collapsed": false
   },
   "outputs": [
    {
     "data": {
      "text/plain": [
       "array([0, 0, 0, ..., 0, 0, 1])"
      ]
     },
     "execution_count": 99,
     "metadata": {},
     "output_type": "execute_result"
    }
   ],
   "source": [
    "model.predict(X)\n"
   ]
  },
  {
   "cell_type": "code",
   "execution_count": 94,
   "metadata": {
    "collapsed": false
   },
   "outputs": [
    {
     "data": {
      "text/plain": [
       "array([[ 0.92878361,  0.07121639],\n",
       "       [ 0.82135634,  0.17864366],\n",
       "       [ 0.72468506,  0.27531494],\n",
       "       ..., \n",
       "       [ 0.82135634,  0.17864366],\n",
       "       [ 0.794556  ,  0.205444  ],\n",
       "       [ 0.37113034,  0.62886966]])"
      ]
     },
     "execution_count": 94,
     "metadata": {},
     "output_type": "execute_result"
    }
   ],
   "source": [
    "model.predict_proba(X)"
   ]
  },
  {
   "cell_type": "code",
   "execution_count": 111,
   "metadata": {
    "collapsed": false
   },
   "outputs": [
    {
     "data": {
      "text/html": [
       "<div>\n",
       "<table border=\"1\" class=\"dataframe\">\n",
       "  <thead>\n",
       "    <tr style=\"text-align: right;\">\n",
       "      <th></th>\n",
       "      <th>Prediction</th>\n",
       "    </tr>\n",
       "  </thead>\n",
       "  <tbody>\n",
       "    <tr>\n",
       "      <th>0</th>\n",
       "      <td>0</td>\n",
       "    </tr>\n",
       "    <tr>\n",
       "      <th>1</th>\n",
       "      <td>0</td>\n",
       "    </tr>\n",
       "    <tr>\n",
       "      <th>2</th>\n",
       "      <td>0</td>\n",
       "    </tr>\n",
       "    <tr>\n",
       "      <th>3</th>\n",
       "      <td>0</td>\n",
       "    </tr>\n",
       "    <tr>\n",
       "      <th>4</th>\n",
       "      <td>0</td>\n",
       "    </tr>\n",
       "    <tr>\n",
       "      <th>...</th>\n",
       "      <td>...</td>\n",
       "    </tr>\n",
       "    <tr>\n",
       "      <th>21237</th>\n",
       "      <td>1</td>\n",
       "    </tr>\n",
       "    <tr>\n",
       "      <th>21238</th>\n",
       "      <td>1</td>\n",
       "    </tr>\n",
       "    <tr>\n",
       "      <th>21239</th>\n",
       "      <td>0</td>\n",
       "    </tr>\n",
       "    <tr>\n",
       "      <th>21240</th>\n",
       "      <td>0</td>\n",
       "    </tr>\n",
       "    <tr>\n",
       "      <th>21241</th>\n",
       "      <td>1</td>\n",
       "    </tr>\n",
       "  </tbody>\n",
       "</table>\n",
       "<p>21242 rows × 1 columns</p>\n",
       "</div>"
      ],
      "text/plain": [
       "       Prediction\n",
       "0               0\n",
       "1               0\n",
       "2               0\n",
       "3               0\n",
       "4               0\n",
       "...           ...\n",
       "21237           1\n",
       "21238           1\n",
       "21239           0\n",
       "21240           0\n",
       "21241           1\n",
       "\n",
       "[21242 rows x 1 columns]"
      ]
     },
     "execution_count": 111,
     "metadata": {},
     "output_type": "execute_result"
    }
   ],
   "source": [
    "predict_df = pd.DataFrame(model.predict(X))\n",
    "predict_df.rename(columns = {0: 'Prediction'}, inplace = True)\n",
    "\n",
    "predict_df\n",
    "\n"
   ]
  },
  {
   "cell_type": "code",
   "execution_count": 118,
   "metadata": {
    "collapsed": false
   },
   "outputs": [
    {
     "data": {
      "text/html": [
       "<div>\n",
       "<table border=\"1\" class=\"dataframe\">\n",
       "  <thead>\n",
       "    <tr style=\"text-align: right;\">\n",
       "      <th></th>\n",
       "      <th>Probability_Retained</th>\n",
       "    </tr>\n",
       "  </thead>\n",
       "  <tbody>\n",
       "    <tr>\n",
       "      <th>0</th>\n",
       "      <td>0.071216</td>\n",
       "    </tr>\n",
       "    <tr>\n",
       "      <th>1</th>\n",
       "      <td>0.178644</td>\n",
       "    </tr>\n",
       "    <tr>\n",
       "      <th>2</th>\n",
       "      <td>0.275315</td>\n",
       "    </tr>\n",
       "    <tr>\n",
       "      <th>3</th>\n",
       "      <td>0.277502</td>\n",
       "    </tr>\n",
       "    <tr>\n",
       "      <th>4</th>\n",
       "      <td>0.242178</td>\n",
       "    </tr>\n",
       "    <tr>\n",
       "      <th>...</th>\n",
       "      <td>...</td>\n",
       "    </tr>\n",
       "    <tr>\n",
       "      <th>21237</th>\n",
       "      <td>0.874250</td>\n",
       "    </tr>\n",
       "    <tr>\n",
       "      <th>21238</th>\n",
       "      <td>0.621064</td>\n",
       "    </tr>\n",
       "    <tr>\n",
       "      <th>21239</th>\n",
       "      <td>0.178644</td>\n",
       "    </tr>\n",
       "    <tr>\n",
       "      <th>21240</th>\n",
       "      <td>0.205444</td>\n",
       "    </tr>\n",
       "    <tr>\n",
       "      <th>21241</th>\n",
       "      <td>0.628870</td>\n",
       "    </tr>\n",
       "  </tbody>\n",
       "</table>\n",
       "<p>21242 rows × 1 columns</p>\n",
       "</div>"
      ],
      "text/plain": [
       "       Probability_Retained\n",
       "0                  0.071216\n",
       "1                  0.178644\n",
       "2                  0.275315\n",
       "3                  0.277502\n",
       "4                  0.242178\n",
       "...                     ...\n",
       "21237              0.874250\n",
       "21238              0.621064\n",
       "21239              0.178644\n",
       "21240              0.205444\n",
       "21241              0.628870\n",
       "\n",
       "[21242 rows x 1 columns]"
      ]
     },
     "execution_count": 118,
     "metadata": {},
     "output_type": "execute_result"
    }
   ],
   "source": [
    "predict_proba_df = pd.DataFrame(model.predict_proba(X))\n",
    "predict_proba_df.drop(0, axis = 1, inplace = True)\n",
    "predict_proba_df.rename(columns = {1: 'Probability_Retained'}, inplace = True)\n",
    "predict_proba_df"
   ]
  },
  {
   "cell_type": "code",
   "execution_count": 117,
   "metadata": {
    "collapsed": false
   },
   "outputs": [
    {
     "data": {
      "text/html": [
       "<div>\n",
       "<table border=\"1\" class=\"dataframe\">\n",
       "  <thead>\n",
       "    <tr style=\"text-align: right;\">\n",
       "      <th></th>\n",
       "      <th>articles_viewed</th>\n",
       "      <th>streams_added</th>\n",
       "      <th>Prediction</th>\n",
       "      <th>Probability_Retained</th>\n",
       "    </tr>\n",
       "    <tr>\n",
       "      <th>user_identities.identity</th>\n",
       "      <th></th>\n",
       "      <th></th>\n",
       "      <th></th>\n",
       "      <th></th>\n",
       "    </tr>\n",
       "  </thead>\n",
       "  <tbody>\n",
       "    <tr>\n",
       "      <th>4.32E+17</th>\n",
       "      <td>0.693147</td>\n",
       "      <td>0.693147</td>\n",
       "      <td>NaN</td>\n",
       "      <td>NaN</td>\n",
       "    </tr>\n",
       "    <tr>\n",
       "      <th>2.39E+18</th>\n",
       "      <td>0.693147</td>\n",
       "      <td>1.791759</td>\n",
       "      <td>NaN</td>\n",
       "      <td>NaN</td>\n",
       "    </tr>\n",
       "    <tr>\n",
       "      <th>5.27E+18</th>\n",
       "      <td>1.098612</td>\n",
       "      <td>1.791759</td>\n",
       "      <td>NaN</td>\n",
       "      <td>NaN</td>\n",
       "    </tr>\n",
       "    <tr>\n",
       "      <th>0000000000000a419698266553970235</th>\n",
       "      <td>1.386294</td>\n",
       "      <td>1.386294</td>\n",
       "      <td>NaN</td>\n",
       "      <td>NaN</td>\n",
       "    </tr>\n",
       "    <tr>\n",
       "      <th>000000000000a6409315927365159953</th>\n",
       "      <td>0.693147</td>\n",
       "      <td>2.197225</td>\n",
       "      <td>NaN</td>\n",
       "      <td>NaN</td>\n",
       "    </tr>\n",
       "    <tr>\n",
       "      <th>...</th>\n",
       "      <td>...</td>\n",
       "      <td>...</td>\n",
       "      <td>...</td>\n",
       "      <td>...</td>\n",
       "    </tr>\n",
       "    <tr>\n",
       "      <th>ffedae157fae4875b0325db40c81ec81</th>\n",
       "      <td>1.791759</td>\n",
       "      <td>3.850148</td>\n",
       "      <td>NaN</td>\n",
       "      <td>NaN</td>\n",
       "    </tr>\n",
       "    <tr>\n",
       "      <th>ffeeaa76195841efab257d819dac7bbb</th>\n",
       "      <td>1.098612</td>\n",
       "      <td>3.332205</td>\n",
       "      <td>NaN</td>\n",
       "      <td>NaN</td>\n",
       "    </tr>\n",
       "    <tr>\n",
       "      <th>fff16bbe71f74b06a2e0b58186be2db9</th>\n",
       "      <td>0.693147</td>\n",
       "      <td>1.791759</td>\n",
       "      <td>NaN</td>\n",
       "      <td>NaN</td>\n",
       "    </tr>\n",
       "    <tr>\n",
       "      <th>fff8033f52ac4d67ae61f2e70559e681</th>\n",
       "      <td>1.098612</td>\n",
       "      <td>1.386294</td>\n",
       "      <td>NaN</td>\n",
       "      <td>NaN</td>\n",
       "    </tr>\n",
       "    <tr>\n",
       "      <th>fffc6535ff9441ee81e321e95374ed77</th>\n",
       "      <td>1.098612</td>\n",
       "      <td>3.367296</td>\n",
       "      <td>NaN</td>\n",
       "      <td>NaN</td>\n",
       "    </tr>\n",
       "  </tbody>\n",
       "</table>\n",
       "<p>21242 rows × 4 columns</p>\n",
       "</div>"
      ],
      "text/plain": [
       "                                  articles_viewed  streams_added  Prediction  \\\n",
       "user_identities.identity                                                       \n",
       "4.32E+17                                 0.693147       0.693147         NaN   \n",
       "2.39E+18                                 0.693147       1.791759         NaN   \n",
       "5.27E+18                                 1.098612       1.791759         NaN   \n",
       "0000000000000a419698266553970235         1.386294       1.386294         NaN   \n",
       "000000000000a6409315927365159953         0.693147       2.197225         NaN   \n",
       "...                                           ...            ...         ...   \n",
       "ffedae157fae4875b0325db40c81ec81         1.791759       3.850148         NaN   \n",
       "ffeeaa76195841efab257d819dac7bbb         1.098612       3.332205         NaN   \n",
       "fff16bbe71f74b06a2e0b58186be2db9         0.693147       1.791759         NaN   \n",
       "fff8033f52ac4d67ae61f2e70559e681         1.098612       1.386294         NaN   \n",
       "fffc6535ff9441ee81e321e95374ed77         1.098612       3.367296         NaN   \n",
       "\n",
       "                                  Probability_Retained  \n",
       "user_identities.identity                                \n",
       "4.32E+17                                           NaN  \n",
       "2.39E+18                                           NaN  \n",
       "5.27E+18                                           NaN  \n",
       "0000000000000a419698266553970235                   NaN  \n",
       "000000000000a6409315927365159953                   NaN  \n",
       "...                                                ...  \n",
       "ffedae157fae4875b0325db40c81ec81                   NaN  \n",
       "ffeeaa76195841efab257d819dac7bbb                   NaN  \n",
       "fff16bbe71f74b06a2e0b58186be2db9                   NaN  \n",
       "fff8033f52ac4d67ae61f2e70559e681                   NaN  \n",
       "fffc6535ff9441ee81e321e95374ed77                   NaN  \n",
       "\n",
       "[21242 rows x 4 columns]"
      ]
     },
     "execution_count": 117,
     "metadata": {},
     "output_type": "execute_result"
    }
   ],
   "source": [
    "new_df = X.join([predict_df, predict_proba_df] )\n",
    "new_df"
   ]
  },
  {
   "cell_type": "code",
   "execution_count": null,
   "metadata": {
    "collapsed": true
   },
   "outputs": [],
   "source": []
  }
 ],
 "metadata": {
  "anaconda-cloud": {},
  "kernelspec": {
   "display_name": "Python [Root]",
   "language": "python",
   "name": "Python [Root]"
  },
  "language_info": {
   "codemirror_mode": {
    "name": "ipython",
    "version": 2
   },
   "file_extension": ".py",
   "mimetype": "text/x-python",
   "name": "python",
   "nbconvert_exporter": "python",
   "pygments_lexer": "ipython2",
   "version": "2.7.12"
  }
 },
 "nbformat": 4,
 "nbformat_minor": 0
}
