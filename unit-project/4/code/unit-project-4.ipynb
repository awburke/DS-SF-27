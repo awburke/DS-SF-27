{
 "cells": [
  {
   "cell_type": "markdown",
   "metadata": {},
   "source": [
    "# DS-SF-27 | Unit Project 4: Notebook with Executive Summary\n",
    "\n",
    "In this project, you will summarize and present your analysis from Unit Projects 1-3."
   ]
  },
  {
   "cell_type": "markdown",
   "metadata": {},
   "source": [
    "> ## Question 1.  Introduction\n",
    "> Write a problem statement for this project."
   ]
  },
  {
   "cell_type": "markdown",
   "metadata": {},
   "source": [
    "What is the likelihood someone will be admitted to UCLA based on the prestige of their undergrad school, assuming they have GRE of 800 and GPA of 4?"
   ]
  },
  {
   "cell_type": "markdown",
   "metadata": {},
   "source": [
    "> ## Question 2.  Dataset\n",
    "> Write up a description of your data and any cleaning that was completed."
   ]
  },
  {
   "cell_type": "markdown",
   "metadata": {},
   "source": [
    "Answer: The timeframe from which the data was collected is unclear.  But the data consists of 4 variables - admit, GRE, GPA, and prestige.  Admit is the dependent variable and the other 3 are the independent variables.  To clean the data, we had to drop missing values - 3 total observations - and we had to do one-hot encoding on the prestige variable, since it was categorical in order to run a logistic regression model."
   ]
  },
  {
   "cell_type": "markdown",
   "metadata": {
    "collapsed": true
   },
   "source": [
    "> ## Question 3.  Demo\n",
    "> Provide a table that explains the data by admission status."
   ]
  },
  {
   "cell_type": "markdown",
   "metadata": {},
   "source": [
    "Answer:\n",
    "\n",
    "Variable | Description | Type of Variable\n",
    "---|---|---\n",
    "`admit` | 0 = Not admitted, 1 = Admitted | Categorical\n",
    "`gre` | GRE (range: 200-800) | Continuous\n",
    "`gpa` | GPA (range: 0-4.0) | Continuous\n",
    "`prestige` | 1 = High prestige, 2 = Good prestige, 3 = Low prestige, 4 = Not prestigious | Categorical"
   ]
  },
  {
   "cell_type": "markdown",
   "metadata": {},
   "source": [
    "> ## Question 4. Methods\n",
    "> Write up the methods used in your analysis."
   ]
  },
  {
   "cell_type": "markdown",
   "metadata": {},
   "source": [
    "Answer:\n",
    "We ran 2 separate logistic regression models, one using StatsModel and one using sklearn."
   ]
  },
  {
   "cell_type": "markdown",
   "metadata": {},
   "source": [
    "> ## Question 5. Results\n",
    "> Write up your results."
   ]
  },
  {
   "cell_type": "markdown",
   "metadata": {},
   "source": [
    "Answer:\n",
    "\n",
    "From the statsmodel output, our model returned the following result:\n",
    "Intercept     0.020716\n",
    "gre           1.002221\n",
    "gpa           2.180027\n",
    "prestige_2    0.506548\n",
    "prestige_3    0.262192\n",
    "prestige_4    0.211525\n",
    "\n",
    "Dep. Variable:\tadmit\tNo. Observations:\t397\n",
    "Df Residuals:\t391\n",
    "MLE\tDf Model:\t5\n",
    "Pseudo R-squ.:\t0.08166\n",
    "Log-Likelihood:\t-227.82\n",
    "converged:\tTrue\t\n",
    "LL-Null:\t-248.08\n",
    "LLR p-value:\t1.176e-07\n",
    "\n"
   ]
  },
  {
   "cell_type": "markdown",
   "metadata": {},
   "source": [
    "> ## Question 6. Visuals\n",
    "> Provide a table or visualization of these results."
   ]
  },
  {
   "cell_type": "markdown",
   "metadata": {},
   "source": [
    "Answer:\n",
    "\n",
    "\n",
    " | gpa | gre | prestige_1 | prestige_2 | prestige_3 | prestige_4\n",
    " ---|---|---\n",
    "`0`| 4 | 800 | .73 | 0 | 0 | 0\n",
    "`1`| 4 | 800 | 0 | .58 | 0 | 0\n",
    "`2`| 4 | 800 | 0 | 0 | .42 | 0\n",
    "`3`| 4 | 800 | 0 | 0 | 0 | .37\n",
    "\n",
    "Probability per tier - 1 = 0.73403998, 2 = 0.58299512, 3 = 0.41983282, 4 = 0.36860803"
   ]
  },
  {
   "cell_type": "markdown",
   "metadata": {},
   "source": [
    "> ## Question 7.  Discussion\n",
    "> Write up your discussion and future steps."
   ]
  },
  {
   "cell_type": "markdown",
   "metadata": {},
   "source": [
    "Answer:\n",
    "\n",
    "The likelihood a student would be admitted to UCLA decreased from a tier 1 school down to a tier 4 school (i.e. the likelihood was highest for tier 1 and lowest for tier 4).\n",
    "\n",
    "Potential next steps - make predictions given other assumptions, and/or do further research to understand why students may be more or less likely to be admitted based on the prestige of their undergrad school."
   ]
  }
 ],
 "metadata": {
  "kernelspec": {
   "display_name": "Python [Root]",
   "language": "python",
   "name": "Python [Root]"
  },
  "language_info": {
   "codemirror_mode": {
    "name": "ipython",
    "version": 2
   },
   "file_extension": ".py",
   "mimetype": "text/x-python",
   "name": "python",
   "nbconvert_exporter": "python",
   "pygments_lexer": "ipython2",
   "version": "2.7.12"
  }
 },
 "nbformat": 4,
 "nbformat_minor": 0
}
