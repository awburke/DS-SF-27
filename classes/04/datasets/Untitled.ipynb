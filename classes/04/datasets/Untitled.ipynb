{
 "cells": [
  {
   "cell_type": "code",
   "execution_count": 6,
   "metadata": {
    "collapsed": true
   },
   "outputs": [],
   "source": [
    "import os\n",
    "\n",
    "import numpy as np\n",
    "\n",
    "import pandas as pd\n",
    "import matplotlib.pyplot as plt\n",
    "pd.set_option('display.max_rows', 6)\n",
    "pd.set_option('display.notebook_repr_html', True)\n",
    "pd.set_option('display.max_columns', 10)\n",
    "\n",
    "%matplotlib inline\n",
    "plt.style.use('ggplot')\n",
    "\n",
    "import csv"
   ]
  },
  {
   "cell_type": "code",
   "execution_count": 7,
   "metadata": {
    "collapsed": false
   },
   "outputs": [],
   "source": [
    "df = pd.read_csv(os.path.join('..', 'datasets', 'storms.csv.gz'))"
   ]
  },
  {
   "cell_type": "code",
   "execution_count": 8,
   "metadata": {
    "collapsed": false
   },
   "outputs": [
    {
     "data": {
      "text/html": [
       "<div>\n",
       "<table border=\"1\" class=\"dataframe\">\n",
       "  <thead>\n",
       "    <tr style=\"text-align: right;\">\n",
       "      <th></th>\n",
       "      <th>STATE__</th>\n",
       "      <th>BGN_DATE</th>\n",
       "      <th>BGN_TIME</th>\n",
       "      <th>TIME_ZONE</th>\n",
       "      <th>COUNTY</th>\n",
       "      <th>...</th>\n",
       "      <th>LONGITUDE</th>\n",
       "      <th>LATITUDE_E</th>\n",
       "      <th>LONGITUDE_</th>\n",
       "      <th>REMARKS</th>\n",
       "      <th>REFNUM</th>\n",
       "    </tr>\n",
       "  </thead>\n",
       "  <tbody>\n",
       "    <tr>\n",
       "      <th>0</th>\n",
       "      <td>1.0</td>\n",
       "      <td>4/18/1950 0:00:00</td>\n",
       "      <td>130</td>\n",
       "      <td>CST</td>\n",
       "      <td>97.0</td>\n",
       "      <td>...</td>\n",
       "      <td>8812.0</td>\n",
       "      <td>3051.0</td>\n",
       "      <td>8806.0</td>\n",
       "      <td>NaN</td>\n",
       "      <td>1.0</td>\n",
       "    </tr>\n",
       "    <tr>\n",
       "      <th>1</th>\n",
       "      <td>1.0</td>\n",
       "      <td>4/18/1950 0:00:00</td>\n",
       "      <td>145</td>\n",
       "      <td>CST</td>\n",
       "      <td>3.0</td>\n",
       "      <td>...</td>\n",
       "      <td>8755.0</td>\n",
       "      <td>0.0</td>\n",
       "      <td>0.0</td>\n",
       "      <td>NaN</td>\n",
       "      <td>2.0</td>\n",
       "    </tr>\n",
       "    <tr>\n",
       "      <th>2</th>\n",
       "      <td>1.0</td>\n",
       "      <td>2/20/1951 0:00:00</td>\n",
       "      <td>1600</td>\n",
       "      <td>CST</td>\n",
       "      <td>57.0</td>\n",
       "      <td>...</td>\n",
       "      <td>8742.0</td>\n",
       "      <td>0.0</td>\n",
       "      <td>0.0</td>\n",
       "      <td>NaN</td>\n",
       "      <td>3.0</td>\n",
       "    </tr>\n",
       "    <tr>\n",
       "      <th>...</th>\n",
       "      <td>...</td>\n",
       "      <td>...</td>\n",
       "      <td>...</td>\n",
       "      <td>...</td>\n",
       "      <td>...</td>\n",
       "      <td>...</td>\n",
       "      <td>...</td>\n",
       "      <td>...</td>\n",
       "      <td>...</td>\n",
       "      <td>...</td>\n",
       "      <td>...</td>\n",
       "    </tr>\n",
       "    <tr>\n",
       "      <th>902294</th>\n",
       "      <td>2.0</td>\n",
       "      <td>11/8/2011 0:00:00</td>\n",
       "      <td>02:58:00 PM</td>\n",
       "      <td>AKS</td>\n",
       "      <td>213.0</td>\n",
       "      <td>...</td>\n",
       "      <td>0.0</td>\n",
       "      <td>0.0</td>\n",
       "      <td>0.0</td>\n",
       "      <td>EPISODE NARRATIVE: A 960 mb low over the south...</td>\n",
       "      <td>902295.0</td>\n",
       "    </tr>\n",
       "    <tr>\n",
       "      <th>902295</th>\n",
       "      <td>2.0</td>\n",
       "      <td>11/9/2011 0:00:00</td>\n",
       "      <td>10:21:00 AM</td>\n",
       "      <td>AKS</td>\n",
       "      <td>202.0</td>\n",
       "      <td>...</td>\n",
       "      <td>0.0</td>\n",
       "      <td>0.0</td>\n",
       "      <td>0.0</td>\n",
       "      <td>EPISODE NARRATIVE: A 960 mb low over the south...</td>\n",
       "      <td>902296.0</td>\n",
       "    </tr>\n",
       "    <tr>\n",
       "      <th>902296</th>\n",
       "      <td>1.0</td>\n",
       "      <td>11/28/2011 0:00:00</td>\n",
       "      <td>08:00:00 PM</td>\n",
       "      <td>CST</td>\n",
       "      <td>6.0</td>\n",
       "      <td>...</td>\n",
       "      <td>0.0</td>\n",
       "      <td>0.0</td>\n",
       "      <td>0.0</td>\n",
       "      <td>EPISODE NARRATIVE: An intense upper level low ...</td>\n",
       "      <td>902297.0</td>\n",
       "    </tr>\n",
       "  </tbody>\n",
       "</table>\n",
       "<p>902297 rows × 37 columns</p>\n",
       "</div>"
      ],
      "text/plain": [
       "        STATE__            BGN_DATE     BGN_TIME TIME_ZONE  COUNTY    ...     \\\n",
       "0           1.0   4/18/1950 0:00:00          130       CST    97.0    ...      \n",
       "1           1.0   4/18/1950 0:00:00          145       CST     3.0    ...      \n",
       "2           1.0   2/20/1951 0:00:00         1600       CST    57.0    ...      \n",
       "...         ...                 ...          ...       ...     ...    ...      \n",
       "902294      2.0   11/8/2011 0:00:00  02:58:00 PM       AKS   213.0    ...      \n",
       "902295      2.0   11/9/2011 0:00:00  10:21:00 AM       AKS   202.0    ...      \n",
       "902296      1.0  11/28/2011 0:00:00  08:00:00 PM       CST     6.0    ...      \n",
       "\n",
       "       LONGITUDE LATITUDE_E LONGITUDE_  \\\n",
       "0         8812.0     3051.0     8806.0   \n",
       "1         8755.0        0.0        0.0   \n",
       "2         8742.0        0.0        0.0   \n",
       "...          ...        ...        ...   \n",
       "902294       0.0        0.0        0.0   \n",
       "902295       0.0        0.0        0.0   \n",
       "902296       0.0        0.0        0.0   \n",
       "\n",
       "                                                  REMARKS    REFNUM  \n",
       "0                                                     NaN       1.0  \n",
       "1                                                     NaN       2.0  \n",
       "2                                                     NaN       3.0  \n",
       "...                                                   ...       ...  \n",
       "902294  EPISODE NARRATIVE: A 960 mb low over the south...  902295.0  \n",
       "902295  EPISODE NARRATIVE: A 960 mb low over the south...  902296.0  \n",
       "902296  EPISODE NARRATIVE: An intense upper level low ...  902297.0  \n",
       "\n",
       "[902297 rows x 37 columns]"
      ]
     },
     "execution_count": 8,
     "metadata": {},
     "output_type": "execute_result"
    }
   ],
   "source": [
    "df"
   ]
  },
  {
   "cell_type": "code",
   "execution_count": 34,
   "metadata": {
    "collapsed": true
   },
   "outputs": [],
   "source": [
    "df = df.set_index('REFNUM')"
   ]
  },
  {
   "cell_type": "code",
   "execution_count": 12,
   "metadata": {
    "collapsed": false
   },
   "outputs": [
    {
     "data": {
      "text/plain": [
       "Index([u'STATE__', u'BGN_DATE', u'BGN_TIME', u'TIME_ZONE', u'COUNTY',\n",
       "       u'COUNTYNAME', u'STATE', u'EVTYPE', u'BGN_RANGE', u'BGN_AZI',\n",
       "       u'BGN_LOCATI', u'END_DATE', u'END_TIME', u'COUNTY_END', u'COUNTYENDN',\n",
       "       u'END_RANGE', u'END_AZI', u'END_LOCATI', u'LENGTH', u'WIDTH', u'F',\n",
       "       u'MAG', u'FATALITIES', u'INJURIES', u'PROPDMG', u'PROPDMGEXP',\n",
       "       u'CROPDMG', u'CROPDMGEXP', u'WFO', u'STATEOFFIC', u'ZONENAMES',\n",
       "       u'LATITUDE', u'LONGITUDE', u'LATITUDE_E', u'LONGITUDE_', u'REMARKS',\n",
       "       u'REFNUM'],\n",
       "      dtype='object')"
      ]
     },
     "execution_count": 12,
     "metadata": {},
     "output_type": "execute_result"
    }
   ],
   "source": [
    "df.columns"
   ]
  },
  {
   "cell_type": "code",
   "execution_count": 18,
   "metadata": {
    "collapsed": false
   },
   "outputs": [
    {
     "data": {
      "text/plain": [
       "985"
      ]
     },
     "execution_count": 18,
     "metadata": {},
     "output_type": "execute_result"
    }
   ],
   "source": [
    "df.EVTYPE.nunique()"
   ]
  },
  {
   "cell_type": "code",
   "execution_count": 19,
   "metadata": {
    "collapsed": false
   },
   "outputs": [
    {
     "data": {
      "text/plain": [
       "STATE__            0\n",
       "BGN_DATE           0\n",
       "BGN_TIME           0\n",
       "               ...  \n",
       "LONGITUDE_         0\n",
       "REMARKS       287433\n",
       "REFNUM             0\n",
       "dtype: int64"
      ]
     },
     "execution_count": 19,
     "metadata": {},
     "output_type": "execute_result"
    }
   ],
   "source": [
    "df.isnull().sum()"
   ]
  },
  {
   "cell_type": "code",
   "execution_count": 21,
   "metadata": {
    "collapsed": false
   },
   "outputs": [
    {
     "name": "stdout",
     "output_type": "stream",
     "text": [
      "STATE__              0.0\n",
      "BGN_DATE             0.0\n",
      "BGN_TIME             0.0\n",
      "TIME_ZONE            0.0\n",
      "COUNTY               0.0\n",
      "COUNTYNAME           0.2\n",
      "STATE                0.0\n",
      "EVTYPE               0.0\n",
      "BGN_RANGE            0.0\n",
      "BGN_AZI              60.7\n",
      "BGN_LOCATI           31.9\n",
      "END_DATE             27.0\n",
      "END_TIME             26.5\n",
      "COUNTY_END           0.0\n",
      "COUNTYENDN           100.0\n",
      "END_RANGE            0.0\n",
      "END_AZI              80.3\n",
      "END_LOCATI           55.3\n",
      "LENGTH               0.0\n",
      "WIDTH                0.0\n",
      "F                    93.5\n",
      "MAG                  0.0\n",
      "FATALITIES           0.0\n",
      "INJURIES             0.0\n",
      "PROPDMG              0.0\n",
      "PROPDMGEXP           51.6\n",
      "CROPDMG              0.0\n",
      "CROPDMGEXP           68.5\n",
      "WFO                  15.7\n",
      "STATEOFFIC           27.6\n",
      "ZONENAMES            65.8\n",
      "LATITUDE             0.0\n",
      "LONGITUDE            0.0\n",
      "LATITUDE_E           0.0\n",
      "LONGITUDE_           0.0\n",
      "REMARKS              31.9\n",
      "REFNUM               0.0\n"
     ]
    }
   ],
   "source": [
    "a = df.isnull().sum()\n",
    "\n",
    "for column in df.columns:\n",
    "    print \"{:20s} {:2.1f}\".format(column, 100. * a[column] / len(df))"
   ]
  },
  {
   "cell_type": "code",
   "execution_count": 25,
   "metadata": {
    "collapsed": false
   },
   "outputs": [
    {
     "data": {
      "text/plain": [
       "<matplotlib.axes._subplots.AxesSubplot at 0x12649abd0>"
      ]
     },
     "execution_count": 25,
     "metadata": {},
     "output_type": "execute_result"
    },
    {
     "data": {
      "image/png": "[encoded data removed]",
      "text/plain": [
       "<matplotlib.figure.Figure at 0x12641a710>"
      ]
     },
     "metadata": {},
     "output_type": "display_data"
    }
   ],
   "source": [
    "df[['MAG', 'FATALITIES']].plot(kind = 'scatter', x = 'MAG', y = 'FATALITIES', s = 100, figsize = (8, 8))"
   ]
  },
  {
   "cell_type": "code",
   "execution_count": 31,
   "metadata": {
    "collapsed": false
   },
   "outputs": [
    {
     "data": {
      "text/plain": [
       "Index([u'STATE__', u'BGN_DATE', u'BGN_TIME', u'TIME_ZONE', u'COUNTY', u'STATE',\n",
       "       u'EVTYPE', u'BGN_RANGE', u'COUNTY_END', u'END_RANGE', u'LENGTH',\n",
       "       u'WIDTH', u'MAG', u'FATALITIES', u'INJURIES', u'PROPDMG', u'CROPDMG',\n",
       "       u'LONGITUDE', u'LONGITUDE_', u'REFNUM'],\n",
       "      dtype='object')"
      ]
     },
     "execution_count": 31,
     "metadata": {},
     "output_type": "execute_result"
    }
   ],
   "source": [
    "df.dropna(axis = 1).columns"
   ]
  },
  {
   "cell_type": "code",
   "execution_count": 37,
   "metadata": {
    "collapsed": false
   },
   "outputs": [
    {
     "data": {
      "text/html": [
       "<div>\n",
       "<table border=\"1\" class=\"dataframe\">\n",
       "  <thead>\n",
       "    <tr style=\"text-align: right;\">\n",
       "      <th></th>\n",
       "      <th>STATE__</th>\n",
       "      <th>BGN_DATE</th>\n",
       "      <th>BGN_TIME</th>\n",
       "      <th>TIME_ZONE</th>\n",
       "      <th>COUNTY</th>\n",
       "      <th>...</th>\n",
       "      <th>LATITUDE</th>\n",
       "      <th>LONGITUDE</th>\n",
       "      <th>LATITUDE_E</th>\n",
       "      <th>LONGITUDE_</th>\n",
       "      <th>REMARKS</th>\n",
       "    </tr>\n",
       "    <tr>\n",
       "      <th>REFNUM</th>\n",
       "      <th></th>\n",
       "      <th></th>\n",
       "      <th></th>\n",
       "      <th></th>\n",
       "      <th></th>\n",
       "      <th></th>\n",
       "      <th></th>\n",
       "      <th></th>\n",
       "      <th></th>\n",
       "      <th></th>\n",
       "      <th></th>\n",
       "    </tr>\n",
       "  </thead>\n",
       "  <tbody>\n",
       "    <tr>\n",
       "      <th>19.0</th>\n",
       "      <td>1.0</td>\n",
       "      <td>5/10/1952 0:00:00</td>\n",
       "      <td>900</td>\n",
       "      <td>CST</td>\n",
       "      <td>57.0</td>\n",
       "      <td>...</td>\n",
       "      <td>3344.0</td>\n",
       "      <td>8745.0</td>\n",
       "      <td>0.0</td>\n",
       "      <td>0.0</td>\n",
       "      <td>NaN</td>\n",
       "    </tr>\n",
       "    <tr>\n",
       "      <th>20.0</th>\n",
       "      <td>1.0</td>\n",
       "      <td>5/10/1952 0:00:00</td>\n",
       "      <td>900</td>\n",
       "      <td>CST</td>\n",
       "      <td>57.0</td>\n",
       "      <td>...</td>\n",
       "      <td>3344.0</td>\n",
       "      <td>8745.0</td>\n",
       "      <td>0.0</td>\n",
       "      <td>0.0</td>\n",
       "      <td>NaN</td>\n",
       "    </tr>\n",
       "    <tr>\n",
       "      <th>260.0</th>\n",
       "      <td>1.0</td>\n",
       "      <td>7/4/1960 0:00:00</td>\n",
       "      <td>1750</td>\n",
       "      <td>CST</td>\n",
       "      <td>13.0</td>\n",
       "      <td>...</td>\n",
       "      <td>3139.0</td>\n",
       "      <td>8636.0</td>\n",
       "      <td>0.0</td>\n",
       "      <td>0.0</td>\n",
       "      <td>NaN</td>\n",
       "    </tr>\n",
       "    <tr>\n",
       "      <th>...</th>\n",
       "      <td>...</td>\n",
       "      <td>...</td>\n",
       "      <td>...</td>\n",
       "      <td>...</td>\n",
       "      <td>...</td>\n",
       "      <td>...</td>\n",
       "      <td>...</td>\n",
       "      <td>...</td>\n",
       "      <td>...</td>\n",
       "      <td>...</td>\n",
       "      <td>...</td>\n",
       "    </tr>\n",
       "    <tr>\n",
       "      <th>900807.0</th>\n",
       "      <td>36.0</td>\n",
       "      <td>10/29/2011 0:00:00</td>\n",
       "      <td>01:00:00 PM</td>\n",
       "      <td>EST</td>\n",
       "      <td>57.0</td>\n",
       "      <td>...</td>\n",
       "      <td>0.0</td>\n",
       "      <td>0.0</td>\n",
       "      <td>0.0</td>\n",
       "      <td>0.0</td>\n",
       "      <td>EPISODE NARRATIVE: An early season winter stor...</td>\n",
       "    </tr>\n",
       "    <tr>\n",
       "      <th>900808.0</th>\n",
       "      <td>38.0</td>\n",
       "      <td>10/24/2011 0:00:00</td>\n",
       "      <td>03:03:00 PM</td>\n",
       "      <td>CST</td>\n",
       "      <td>7.0</td>\n",
       "      <td>...</td>\n",
       "      <td>0.0</td>\n",
       "      <td>0.0</td>\n",
       "      <td>0.0</td>\n",
       "      <td>0.0</td>\n",
       "      <td>EPISODE NARRATIVE: Seasonably warm and dry con...</td>\n",
       "    </tr>\n",
       "    <tr>\n",
       "      <th>900809.0</th>\n",
       "      <td>27.0</td>\n",
       "      <td>10/5/2011 0:00:00</td>\n",
       "      <td>03:00:00 PM</td>\n",
       "      <td>CST</td>\n",
       "      <td>5.0</td>\n",
       "      <td>...</td>\n",
       "      <td>0.0</td>\n",
       "      <td>0.0</td>\n",
       "      <td>0.0</td>\n",
       "      <td>0.0</td>\n",
       "      <td>EPISODE NARRATIVE: A wildfire originated in Ju...</td>\n",
       "    </tr>\n",
       "  </tbody>\n",
       "</table>\n",
       "<p>3143 rows × 36 columns</p>\n",
       "</div>"
      ],
      "text/plain": [
       "          STATE__            BGN_DATE     BGN_TIME TIME_ZONE  COUNTY  \\\n",
       "REFNUM                                                                 \n",
       "19.0          1.0   5/10/1952 0:00:00          900       CST    57.0   \n",
       "20.0          1.0   5/10/1952 0:00:00          900       CST    57.0   \n",
       "260.0         1.0    7/4/1960 0:00:00         1750       CST    13.0   \n",
       "...           ...                 ...          ...       ...     ...   \n",
       "900807.0     36.0  10/29/2011 0:00:00  01:00:00 PM       EST    57.0   \n",
       "900808.0     38.0  10/24/2011 0:00:00  03:03:00 PM       CST     7.0   \n",
       "900809.0     27.0   10/5/2011 0:00:00  03:00:00 PM       CST     5.0   \n",
       "\n",
       "                                ...                         LATITUDE  \\\n",
       "REFNUM                          ...                                    \n",
       "19.0                            ...                           3344.0   \n",
       "20.0                            ...                           3344.0   \n",
       "260.0                           ...                           3139.0   \n",
       "...                             ...                              ...   \n",
       "900807.0                        ...                              0.0   \n",
       "900808.0                        ...                              0.0   \n",
       "900809.0                        ...                              0.0   \n",
       "\n",
       "         LONGITUDE LATITUDE_E  LONGITUDE_  \\\n",
       "REFNUM                                      \n",
       "19.0        8745.0        0.0         0.0   \n",
       "20.0        8745.0        0.0         0.0   \n",
       "260.0       8636.0        0.0         0.0   \n",
       "...            ...        ...         ...   \n",
       "900807.0       0.0        0.0         0.0   \n",
       "900808.0       0.0        0.0         0.0   \n",
       "900809.0       0.0        0.0         0.0   \n",
       "\n",
       "                                                    REMARKS  \n",
       "REFNUM                                                       \n",
       "19.0                                                    NaN  \n",
       "20.0                                                    NaN  \n",
       "260.0                                                   NaN  \n",
       "...                                                     ...  \n",
       "900807.0  EPISODE NARRATIVE: An early season winter stor...  \n",
       "900808.0  EPISODE NARRATIVE: Seasonably warm and dry con...  \n",
       "900809.0  EPISODE NARRATIVE: A wildfire originated in Ju...  \n",
       "\n",
       "[3143 rows x 36 columns]"
      ]
     },
     "execution_count": 37,
     "metadata": {},
     "output_type": "execute_result"
    }
   ],
   "source": [
    "df[df.duplicated()]"
   ]
  },
  {
   "cell_type": "code",
   "execution_count": 44,
   "metadata": {
    "collapsed": false
   },
   "outputs": [
    {
     "data": {
      "text/plain": [
       "array(['TORNADO', 'TSTM WIND', 'HAIL', 'FREEZING RAIN', 'SNOW',\n",
       "       'ICE STORM/FLASH FLOOD', 'SNOW/ICE', 'WINTER STORM',\n",
       "       'HURRICANE OPAL/HIGH WINDS', 'THUNDERSTORM WINDS', 'RECORD COLD',\n",
       "       'HURRICANE ERIN', 'HURRICANE OPAL', 'HEAVY RAIN', 'LIGHTNING',\n",
       "       'THUNDERSTORM WIND', 'DENSE FOG', 'RIP CURRENT',\n",
       "       'THUNDERSTORM WINS', 'FLASH FLOOD', 'FLASH FLOODING', 'HIGH WINDS',\n",
       "       'FUNNEL CLOUD', 'TORNADO F0', 'THUNDERSTORM WINDS LIGHTNING',\n",
       "       'THUNDERSTORM WINDS/HAIL', 'HEAT', 'WIND', 'LIGHTING',\n",
       "       'HEAVY RAINS', 'LIGHTNING AND HEAVY RAIN', 'FUNNEL', 'WALL CLOUD',\n",
       "       'FLOODING', 'THUNDERSTORM WINDS HAIL', 'FLOOD', 'COLD',\n",
       "       'HEAVY RAIN/LIGHTNING', 'FLASH FLOODING/THUNDERSTORM WI',\n",
       "       'WALL CLOUD/FUNNEL CLOUD', 'THUNDERSTORM', 'WATERSPOUT',\n",
       "       'EXTREME COLD', 'HAIL 1.75)', 'LIGHTNING/HEAVY RAIN', 'HIGH WIND',\n",
       "       'BLIZZARD', 'BLIZZARD WEATHER', 'WIND CHILL', 'BREAKUP FLOODING',\n",
       "       'HIGH WIND/BLIZZARD', 'RIVER FLOOD', 'HEAVY SNOW', 'FREEZE',\n",
       "       'COASTAL FLOOD', 'HIGH WIND AND HIGH TIDES',\n",
       "       'HIGH WIND/BLIZZARD/FREEZING RA', 'HIGH TIDES',\n",
       "       'HIGH WIND AND HEAVY SNOW', 'RECORD COLD AND HIGH WIND',\n",
       "       'RECORD HIGH TEMPERATURE', 'RECORD HIGH', 'HIGH WINDS HEAVY RAINS',\n",
       "       'HIGH WIND/ BLIZZARD', 'ICE STORM', 'BLIZZARD/HIGH WIND',\n",
       "       'HIGH WIND/LOW WIND CHILL', 'HEAVY SNOW/HIGH', 'RECORD LOW',\n",
       "       'HIGH WINDS AND WIND CHILL', 'HEAVY SNOW/HIGH WINDS/FREEZING',\n",
       "       'LOW TEMPERATURE RECORD', 'AVALANCHE', 'MARINE MISHAP',\n",
       "       'WIND CHILL/HIGH WIND', 'HIGH WIND/WIND CHILL/BLIZZARD',\n",
       "       'HIGH WIND/WIND CHILL', 'HIGH WIND/HEAVY SNOW',\n",
       "       'HIGH TEMPERATURE RECORD', 'FLOOD WATCH/',\n",
       "       'RECORD HIGH TEMPERATURES', 'HIGH WIND/SEAS',\n",
       "       'HIGH WINDS/HEAVY RAIN', 'HIGH SEAS', 'SEVERE TURBULENCE',\n",
       "       'RECORD RAINFALL', 'RECORD SNOWFALL', 'RECORD WARMTH',\n",
       "       'HEAVY SNOW/WIND', 'EXTREME HEAT', 'WIND DAMAGE', 'DUST STORM',\n",
       "       'APACHE COUNTY', 'SLEET', 'HAIL STORM', 'FUNNEL CLOUDS',\n",
       "       'FLASH FLOODS', 'DUST DEVIL', 'EXCESSIVE HEAT',\n",
       "       'THUNDERSTORM WINDS/FUNNEL CLOU', 'WINTER STORM/HIGH WIND',\n",
       "       'WINTER STORM/HIGH WINDS', 'GUSTY WINDS', 'STRONG WINDS',\n",
       "       'FLOODING/HEAVY RAIN', 'SNOW AND WIND',\n",
       "       'HEAVY SURF COASTAL FLOODING', 'HEAVY SURF', 'HEAVY PRECIPATATION',\n",
       "       'URBAN FLOODING', 'HIGH SURF', 'BLOWING DUST', 'URBAN/SMALL',\n",
       "       'WILD FIRES', 'HIGH', 'URBAN/SMALL FLOODING', 'WATER SPOUT',\n",
       "       'HIGH WINDS DUST STORM', 'WINTER STORM HIGH WINDS', 'LOCAL FLOOD',\n",
       "       'WINTER STORMS', 'MUDSLIDES', 'RAINSTORM', 'SEVERE THUNDERSTORM',\n",
       "       'SEVERE THUNDERSTORMS', 'SEVERE THUNDERSTORM WINDS',\n",
       "       'THUNDERSTORMS WINDS', 'DRY MICROBURST', 'FLOOD/FLASH FLOOD',\n",
       "       'FLOOD/RAIN/WINDS', 'WINDS', 'DRY MICROBURST 61', 'THUNDERSTORMS',\n",
       "       'FLASH FLOOD WINDS', 'URBAN/SMALL STREAM FLOODING', 'MICROBURST',\n",
       "       'STRONG WIND', 'HIGH WIND DAMAGE', 'STREAM FLOODING',\n",
       "       'URBAN AND SMALL', 'HEAVY SNOWPACK', 'ICE', 'FLASH FLOOD/',\n",
       "       'DOWNBURST', 'GUSTNADO AND', 'FLOOD/RAIN/WIND', 'WET MICROBURST',\n",
       "       'DOWNBURST WINDS', 'DRY MICROBURST WINDS', 'DRY MIRCOBURST WINDS',\n",
       "       'DRY MICROBURST 53', 'SMALL STREAM URBAN FLOOD', 'MICROBURST WINDS',\n",
       "       'HIGH WINDS 57', 'DRY MICROBURST 50', 'HIGH WINDS 66',\n",
       "       'HIGH WINDS 76', 'HIGH WINDS 63', 'HIGH WINDS 67',\n",
       "       'BLIZZARD/HEAVY SNOW', 'HEAVY SNOW/HIGH WINDS', 'BLOWING SNOW',\n",
       "       'HIGH WINDS 82', 'HIGH WINDS 80', 'HIGH WINDS 58',\n",
       "       'FREEZING DRIZZLE', 'LIGHTNING THUNDERSTORM WINDSS',\n",
       "       'DRY MICROBURST 58', 'HAIL 75', 'HIGH WINDS 73', 'HIGH WINDS 55',\n",
       "       'LIGHT SNOW AND SLEET', 'URBAN FLOOD', 'DRY MICROBURST 84',\n",
       "       'THUNDERSTORM WINDS 60', 'HEAVY RAIN/FLOODING',\n",
       "       'THUNDERSTORM WINDSS', 'TORNADOS', 'GLAZE', 'RECORD HEAT',\n",
       "       'COASTAL FLOODING', 'HEAT WAVE', 'FIRST SNOW',\n",
       "       'FREEZING RAIN AND SLEET', 'UNSEASONABLY DRY', 'UNSEASONABLY WET',\n",
       "       'WINTRY MIX', 'WINTER WEATHER', 'UNSEASONABLY COLD',\n",
       "       'EXTREME/RECORD COLD', 'RIP CURRENTS HEAVY SURF', 'SLEET/RAIN/SNOW',\n",
       "       'UNSEASONABLY WARM', 'DROUGHT', 'NORMAL PRECIPITATION',\n",
       "       'HIGH WINDS/FLOODING', 'DRY', 'RAIN/SNOW', 'SNOW/RAIN/SLEET',\n",
       "       'WATERSPOUT/TORNADO', 'WATERSPOUTS', 'WATERSPOUT TORNADO',\n",
       "       'URBAN/SMALL STREAM FLOOD', 'STORM SURGE', 'WATERSPOUT-TORNADO',\n",
       "       'WATERSPOUT-', 'TORNADOES, TSTM WIND, HAIL',\n",
       "       'TROPICAL STORM ALBERTO', 'TROPICAL STORM', 'TROPICAL STORM GORDON',\n",
       "       'TROPICAL STORM JERRY', 'LIGHTNING THUNDERSTORM WINDS',\n",
       "       'WAYTERSPOUT', 'MINOR FLOODING', 'LIGHTNING INJURY',\n",
       "       'URBAN/SMALL STREAM  FLOOD', 'LIGHTNING AND THUNDERSTORM WIN',\n",
       "       'THUNDERSTORM WINDS53', 'URBAN AND SMALL STREAM FLOOD',\n",
       "       'URBAN AND SMALL STREAM', 'WILDFIRE', 'DAMAGING FREEZE',\n",
       "       'THUNDERSTORM WINDS 13', 'SMALL HAIL', 'HEAVY SNOW/HIGH WIND',\n",
       "       'HURRICANE', 'WILD/FOREST FIRE', 'SMALL STREAM FLOODING',\n",
       "       'MUD SLIDE', 'LIGNTNING', 'FROST', 'FREEZING RAIN/SNOW',\n",
       "       'HIGH WINDS/', 'THUNDERSNOW', 'FLOODS', 'EXTREME WIND CHILLS',\n",
       "       'COOL AND WET', 'HEAVY RAIN/SNOW', 'SMALL STREAM AND URBAN FLOODIN',\n",
       "       'SMALL STREAM/URBAN FLOOD', 'SNOW/SLEET/FREEZING RAIN',\n",
       "       'SEVERE COLD', 'GLAZE ICE', 'COLD WAVE', 'EARLY SNOW',\n",
       "       'SMALL STREAM AND URBAN FLOOD', 'HIGH  WINDS', 'RURAL FLOOD',\n",
       "       'SMALL STREAM AND', 'MUD SLIDES', 'HAIL 80', 'EXTREME WIND CHILL',\n",
       "       'COLD AND WET CONDITIONS', 'EXCESSIVE WETNESS', 'GRADIENT WINDS',\n",
       "       'HEAVY SNOW/BLOWING SNOW', 'SLEET/ICE STORM',\n",
       "       'THUNDERSTORM WINDS URBAN FLOOD', 'THUNDERSTORM WINDS SMALL STREA',\n",
       "       'ROTATING WALL CLOUD', 'LARGE WALL CLOUD', 'COLD AIR FUNNEL',\n",
       "       'GUSTNADO', 'COLD AIR FUNNELS', 'BLOWING SNOW- EXTREME WIND CHI',\n",
       "       'SNOW AND HEAVY SNOW', 'GROUND BLIZZARD', 'MAJOR FLOOD',\n",
       "       'SNOW/HEAVY SNOW', 'FREEZING RAIN/SLEET', 'ICE JAM FLOODING',\n",
       "       'SNOW- HIGH WIND- WIND CHILL', 'STREET FLOOD', 'COLD AIR TORNADO',\n",
       "       'SMALL STREAM FLOOD', 'FOG', 'THUNDERSTORM WINDS 2',\n",
       "       'FUNNEL CLOUD/HAIL', 'ICE/SNOW', 'TSTM WIND 51', 'TSTM WIND 50',\n",
       "       'TSTM WIND 52', 'TSTM WIND 55', 'HEAVY SNOW/BLIZZARD',\n",
       "       'THUNDERSTORM WINDS 61', 'HAIL 0.75', 'THUNDERSTORM DAMAGE',\n",
       "       'THUNDERTORM WINDS', 'HAIL 1.00', 'HAIL/WINDS', 'SNOW AND ICE',\n",
       "       'WIND STORM', 'SNOWSTORM', 'GRASS FIRES', 'LAKE FLOOD',\n",
       "       'PROLONG COLD', 'HAIL/WIND', 'HAIL 1.75', 'THUNDERSTORMW 50',\n",
       "       'WIND/HAIL', 'SNOW AND ICE STORM', 'URBAN AND SMALL STREAM FLOODIN',\n",
       "       'THUNDERSTORMS WIND', 'THUNDERSTORM  WINDS', 'HEAVY SNOW/SLEET',\n",
       "       'AGRICULTURAL FREEZE', 'DROUGHT/EXCESSIVE HEAT', 'TUNDERSTORM WIND',\n",
       "       'TROPICAL STORM DEAN', 'THUNDERTSORM WIND',\n",
       "       'THUNDERSTORM WINDS/ HAIL', 'THUNDERSTORM WIND/LIGHTNING',\n",
       "       'HEAVY RAIN/SEVERE WEATHER', 'THUNDESTORM WINDS',\n",
       "       'WATERSPOUT/ TORNADO', 'LIGHTNING.', 'WARM DRY CONDITIONS',\n",
       "       'HURRICANE-GENERATED SWELLS', 'HEAVY SNOW/ICE STORM',\n",
       "       'RIVER AND STREAM FLOOD', 'HIGH WIND 63', 'COASTAL SURGE',\n",
       "       'HEAVY SNOW AND ICE STORM', 'MINOR FLOOD',\n",
       "       'HIGH WINDS/COASTAL FLOOD', 'RAIN', 'RIVER FLOODING', 'SNOW/RAIN',\n",
       "       'ICE FLOES', 'HIGH WAVES', 'SNOW SQUALLS', 'SNOW SQUALL',\n",
       "       'THUNDERSTORM WIND G50', 'LIGHTNING FIRE', 'BLIZZARD/FREEZING RAIN',\n",
       "       'HEAVY LAKE SNOW', 'HEAVY SNOW/FREEZING RAIN', 'LAKE EFFECT SNOW',\n",
       "       'HEAVY WET SNOW', 'DUST DEVIL WATERSPOUT',\n",
       "       'THUNDERSTORM WINDS/HEAVY RAIN', 'THUNDERSTROM WINDS',\n",
       "       'THUNDERSTORM WINDS      LE CEN', 'HAIL 225',\n",
       "       'BLIZZARD AND HEAVY SNOW', 'HEAVY SNOW AND ICE',\n",
       "       'ICE STORM AND SNOW', 'HEAVY SNOW ANDBLOWING SNOW',\n",
       "       'HEAVY SNOW/ICE', 'BLIZZARD AND EXTREME WIND CHIL',\n",
       "       'LOW WIND CHILL', 'BLOWING SNOW & EXTREME WIND CH', 'WATERSPOUT/',\n",
       "       'URBAN/SMALL STREAM', 'TORNADO F3', 'FUNNEL CLOUD.', 'TORNDAO',\n",
       "       'HAIL 0.88', 'FLOOD/RIVER FLOOD', 'MUD SLIDES URBAN FLOODING',\n",
       "       'TORNADO F1', 'THUNDERSTORM WINDS G', 'DEEP HAIL',\n",
       "       'GLAZE/ICE STORM', 'HEAVY SNOW/WINTER STORM', 'AVALANCE',\n",
       "       'BLIZZARD/WINTER STORM', 'DUST STORM/HIGH WINDS', 'ICE JAM',\n",
       "       'FOREST FIRES', 'THUNDERSTORM WIND G60', 'FROST\\\\FREEZE',\n",
       "       'THUNDERSTORM WINDS.', 'HAIL 88', 'HAIL 175', 'HVY RAIN',\n",
       "       'HAIL 100', 'HAIL 150', 'HAIL 075', 'THUNDERSTORM WIND G55',\n",
       "       'HAIL 125', 'THUNDERSTORM WINDS G60', 'HARD FREEZE', 'HAIL 200',\n",
       "       'THUNDERSTORM WINDS FUNNEL CLOU', 'THUNDERSTORM WINDS 62',\n",
       "       'WILDFIRES', 'RECORD HEAT WAVE', 'HEAVY SNOW AND HIGH WINDS',\n",
       "       'HEAVY SNOW/HIGH WINDS & FLOOD', 'HAIL FLOODING',\n",
       "       'THUNDERSTORM WINDS/FLASH FLOOD', 'HIGH WIND 70', 'WET SNOW',\n",
       "       'HEAVY RAIN AND FLOOD', 'LOCAL FLASH FLOOD',\n",
       "       'THUNDERSTORM WINDS 53', 'FLOOD/FLASH FLOODING',\n",
       "       'TORNADO/WATERSPOUT', 'RAIN AND WIND', 'THUNDERSTORM WIND 59',\n",
       "       'THUNDERSTORM WIND 52', 'COASTAL/TIDAL FLOOD', 'SNOW/ICE STORM',\n",
       "       'BELOW NORMAL PRECIPITATION', 'RIP CURRENTS/HEAVY SURF',\n",
       "       'FLASH FLOOD/FLOOD', 'EXCESSIVE RAIN', 'RECORD/EXCESSIVE HEAT',\n",
       "       'HEAT WAVES', 'LIGHT SNOW', 'THUNDERSTORM WIND 69', 'HAIL DAMAGE',\n",
       "       'LIGHTNING DAMAGE', 'RECORD TEMPERATURES', 'LIGHTNING AND WINDS',\n",
       "       'FOG AND COLD TEMPERATURES', 'OTHER', 'RECORD SNOW', 'SNOW/COLD',\n",
       "       'FLASH FLOOD FROM ICE JAMS', 'TSTM WIND G58', 'MUDSLIDE',\n",
       "       'HEAVY SNOW SQUALLS', 'HEAVY SNOW/SQUALLS', 'HEAVY SNOW-SQUALLS',\n",
       "       'ICY ROADS', 'HEAVY MIX', 'SNOW FREEZING RAIN', 'LACK OF SNOW',\n",
       "       'SNOW/SLEET', 'SNOW/FREEZING RAIN', 'SNOW DROUGHT',\n",
       "       'THUNDERSTORMW WINDS', 'THUNDERSTORM WIND 60 MPH',\n",
       "       'THUNDERSTORM WIND 65MPH', 'THUNDERSTORM WIND/ TREES',\n",
       "       'THUNDERSTORM WIND/AWNING', 'THUNDERSTORM WIND 98 MPH',\n",
       "       'THUNDERSTORM WIND TREES', 'TORRENTIAL RAIN', 'TORNADO F2',\n",
       "       'RIP CURRENTS', 'HURRICANE EMILY', 'HURRICANE GORDON',\n",
       "       'HURRICANE FELIX', 'THUNDERSTORM WIND 59 MPH',\n",
       "       'THUNDERSTORM WINDS 63 MPH', 'THUNDERSTORM WIND/ TREE',\n",
       "       'THUNDERSTORM DAMAGE TO', 'THUNDERSTORM WIND 65 MPH',\n",
       "       'FLASH FLOOD - HEAVY RAIN', 'THUNDERSTORM WIND.',\n",
       "       'FLASH FLOOD/ STREET', 'THUNDERSTORM WIND 59 MPH.',\n",
       "       'HEAVY SNOW   FREEZING RAIN', 'DAM FAILURE', 'THUNDERSTORM HAIL',\n",
       "       'HAIL 088', 'THUNDERSTORM WINDSHAIL', 'LIGHTNING  WAUSEON',\n",
       "       'THUDERSTORM WINDS', 'ICE AND SNOW', 'RECORD COLD/FROST',\n",
       "       'STORM FORCE WINDS', 'FREEZING RAIN AND SNOW',\n",
       "       'FREEZING RAIN SLEET AND', 'SOUTHEAST', 'HEAVY SNOW & ICE',\n",
       "       'FREEZING DRIZZLE AND FREEZING', 'THUNDERSTORM WINDS AND',\n",
       "       'HAIL/ICY ROADS', 'FLASH FLOOD/HEAVY RAIN',\n",
       "       'HEAVY RAIN; URBAN FLOOD WINDS;', 'HEAVY PRECIPITATION',\n",
       "       'TSTM WIND DAMAGE', 'HIGH WATER', 'FLOOD FLASH', 'RAIN/WIND',\n",
       "       'THUNDERSTORM WINDS 50', 'THUNDERSTORM WIND G52',\n",
       "       'FLOOD FLOOD/FLASH', 'THUNDERSTORM WINDS 52', 'SNOW SHOWERS',\n",
       "       'THUNDERSTORM WIND G51', 'HEAT WAVE DROUGHT',\n",
       "       'HEAVY SNOW/BLIZZARD/AVALANCHE', 'RECORD SNOW/COLD', 'WET WEATHER',\n",
       "       'UNSEASONABLY WARM AND DRY', 'FREEZING RAIN SLEET AND LIGHT',\n",
       "       'RECORD/EXCESSIVE RAINFALL', 'TIDAL FLOOD', 'BEACH EROSIN',\n",
       "       'THUNDERSTORM WIND G61', 'FLOOD/FLASH', 'LOW TEMPERATURE',\n",
       "       'SLEET & FREEZING RAIN', 'HEAVY RAINS/FLOODING',\n",
       "       'THUNDERESTORM WINDS', 'THUNDERSTORM WINDS/FLOODING',\n",
       "       'THUNDEERSTORM WINDS', 'HIGHWAY FLOODING', 'THUNDERSTORM W INDS',\n",
       "       'HYPOTHERMIA', 'FLASH FLOOD/ FLOOD', 'THUNDERSTORM WIND 50',\n",
       "       'THUNERSTORM WINDS', 'HEAVY RAIN/MUDSLIDES/FLOOD', 'MUD/ROCK SLIDE',\n",
       "       'HIGH WINDS/COLD', 'BEACH EROSION/COASTAL FLOOD', 'COLD/WINDS',\n",
       "       'SNOW/ BITTER COLD', 'THUNDERSTORM WIND 56', 'SNOW SLEET',\n",
       "       'DRY HOT WEATHER', 'COLD WEATHER', 'RAPIDLY RISING WATER',\n",
       "       'HAIL ALOFT', 'EARLY FREEZE', 'ICE/STRONG WINDS',\n",
       "       'EXTREME WIND CHILL/BLOWING SNO', 'SNOW/HIGH WINDS',\n",
       "       'HIGH WINDS/SNOW', 'EARLY FROST', 'SNOWMELT FLOODING',\n",
       "       'HEAVY SNOW AND STRONG WINDS', 'SNOW ACCUMULATION',\n",
       "       'BLOWING SNOW/EXTREME WIND CHIL', 'SNOW/ ICE', 'SNOW/BLOWING SNOW',\n",
       "       'TORNADOES', 'THUNDERSTORM WIND/HAIL', 'FLASH FLOODING/FLOOD',\n",
       "       'HAIL 275', 'HAIL 450', 'FLASH FLOOODING', 'EXCESSIVE RAINFALL',\n",
       "       'THUNDERSTORMW', 'HAILSTORM', 'TSTM WINDS', 'BEACH FLOOD',\n",
       "       'HAILSTORMS', 'TSTMW', 'FUNNELS', 'TSTM WIND 65)',\n",
       "       'THUNDERSTORM WINDS/ FLOOD', 'HEAVY RAINFALL', 'HEAT/DROUGHT',\n",
       "       'HEAT DROUGHT', 'NEAR RECORD SNOW', 'LANDSLIDE',\n",
       "       'HIGH WIND AND SEAS', 'THUNDERSTORMWINDS',\n",
       "       'THUNDERSTORM WINDS HEAVY RAIN', 'SLEET/SNOW', 'EXCESSIVE',\n",
       "       'SNOW/SLEET/RAIN', 'WILD/FOREST FIRES', 'HEAVY SEAS', 'DUSTSTORM',\n",
       "       'FLOOD & HEAVY RAIN', '?', 'THUNDERSTROM WIND', 'FLOOD/FLASHFLOOD',\n",
       "       'SNOW AND COLD', 'HOT PATTERN', 'PROLONG COLD/SNOW', 'BRUSH FIRES',\n",
       "       'SNOW\\\\COLD', 'WINTER MIX', 'EXCESSIVE PRECIPITATION',\n",
       "       'SNOWFALL RECORD', 'HOT/DRY PATTERN', 'DRY PATTERN',\n",
       "       'MILD/DRY PATTERN', 'MILD PATTERN', 'LANDSLIDES', 'HEAVY SHOWERS',\n",
       "       'HEAVY SNOW AND', 'HIGH WIND 48', 'LAKE-EFFECT SNOW', 'BRUSH FIRE',\n",
       "       'WATERSPOUT FUNNEL CLOUD', 'URBAN SMALL STREAM FLOOD',\n",
       "       'SAHARAN DUST', 'HEAVY SHOWER', 'URBAN FLOOD LANDSLIDE',\n",
       "       'HEAVY SWELLS', 'URBAN SMALL', 'URBAN FLOODS', 'SMALL STREAM',\n",
       "       'HEAVY RAIN/URBAN FLOOD', 'FLASH FLOOD/LANDSLIDE',\n",
       "       'LANDSLIDE/URBAN FLOOD', 'HEAVY RAIN/SMALL STREAM URBAN',\n",
       "       'FLASH FLOOD LANDSLIDES', 'EXTREME WINDCHILL',\n",
       "       'URBAN/SML STREAM FLD', 'TSTM WIND/HAIL', 'Other',\n",
       "       'Record dry month', 'Temperature record', 'Minor Flooding',\n",
       "       'Ice jam flood (minor', 'High Wind', 'Tstm Wind', 'ROUGH SURF',\n",
       "       'Wind', 'Heavy Surf', 'Dust Devil', 'Wind Damage',\n",
       "       'Marine Accident', 'Snow', 'Freeze', 'Snow Squalls',\n",
       "       'Coastal Flooding', 'Heavy Rain', 'Strong Wind', 'COASTAL STORM',\n",
       "       'COASTALFLOOD', 'Erosion/Cstl Flood', 'Heavy Rain and Wind',\n",
       "       'Light Snow/Flurries', 'Wet Month', 'Wet Year', 'Tidal Flooding',\n",
       "       'River Flooding', 'Damaging Freeze', 'Beach Erosion', 'Hot and Dry',\n",
       "       'Flood/Flash Flood', 'Icy Roads', 'High Surf',\n",
       "       'Heavy Rain/High Surf', 'Thunderstorm Wind', 'Rain Damage',\n",
       "       'Unseasonable Cold', 'Early Frost', 'Wintry Mix', 'blowing snow',\n",
       "       'STREET FLOODING', 'Record Cold', 'Extreme Cold', 'Ice Fog',\n",
       "       'Excessive Cold', 'Torrential Rainfall', 'Freezing Rain',\n",
       "       'Landslump', 'Late-season Snowfall', 'Hurricane Edouard',\n",
       "       'Coastal Storm', 'Flood', 'HEAVY RAIN/WIND', 'TIDAL FLOODING',\n",
       "       'Winter Weather', 'Snow squalls', 'Strong Winds', 'Strong winds',\n",
       "       'RECORD WARM TEMPS.', 'Ice/Snow', 'Mudslide', 'Glaze',\n",
       "       'Extended Cold', 'Snow Accumulation', 'Freezing Fog',\n",
       "       'Drifting Snow', 'Whirlwind', 'Heavy snow shower', 'Heavy rain',\n",
       "       'LATE SNOW', 'Record May Snow', 'Record Winter Snow',\n",
       "       'Heavy Precipitation', ' COASTAL FLOOD', 'Record temperature',\n",
       "       'Light snow', 'Late Season Snowfall', 'Gusty Wind', 'small hail',\n",
       "       'Light Snow', 'MIXED PRECIP', 'Black Ice', 'Mudslides',\n",
       "       'Gradient wind', 'Snow and Ice', 'Freezing Spray', 'Summary Jan 17',\n",
       "       'Summary of March 14', 'Summary of March 23', 'Summary of March 24',\n",
       "       'Summary of April 3rd', 'Summary of April 12',\n",
       "       'Summary of April 13', 'Summary of April 21', 'Summary August 11',\n",
       "       'Summary of April 27', 'Summary of May 9-10', 'Summary of May 10',\n",
       "       'Summary of May 13', 'Summary of May 14', 'Summary of May 22 am',\n",
       "       'Summary of May 22 pm', 'Heatburst', 'Summary of May 26 am',\n",
       "       'Summary of May 26 pm', 'Metro Storm, May 26',\n",
       "       'Summary of May 31 am', 'Summary of May 31 pm', 'Summary of June 3',\n",
       "       'Summary of June 4', 'Summary June 5-6', 'Summary June 6',\n",
       "       'Summary of June 11', 'Summary of June 12', 'Summary of June 13',\n",
       "       'Summary of June 15', 'Summary of June 16', 'Summary June 18-19',\n",
       "       'Summary of June 23', 'Summary of June 24', 'Summary of June 30',\n",
       "       'Summary of July 2', 'Summary of July 3', 'Summary of July 11',\n",
       "       'Summary of July 22', 'Summary July 23-24', 'Summary of July 26',\n",
       "       'Summary of July 29', 'Summary of August 1', 'Summary August 2-3',\n",
       "       'Summary August 7', 'Summary August 9', 'Summary August 10',\n",
       "       'Summary August 17', 'Summary August 21', 'Summary August 28',\n",
       "       'Summary September 4', 'Summary September 20',\n",
       "       'Summary September 23', 'Summary Sept. 25-26',\n",
       "       'Summary: Oct. 20-21', 'Summary: October 31', 'Summary: Nov. 6-7',\n",
       "       'Summary: Nov. 16', 'Microburst', 'wet micoburst', 'Hail(0.75)',\n",
       "       'Funnel Cloud', 'Urban Flooding', 'No Severe Weather',\n",
       "       'Urban flood', 'Urban Flood', 'Cold', 'Summary of May 22',\n",
       "       'Summary of June 6', 'Summary August 4', 'Summary of June 10',\n",
       "       'Summary of June 18', 'Summary September 3', 'Summary: Sept. 18',\n",
       "       'Coastal Flood', 'coastal flooding', 'Small Hail',\n",
       "       'Record Temperatures', 'Light Snowfall', 'Freezing Drizzle',\n",
       "       'Gusty wind/rain', 'GUSTY WIND/HVY RAIN', 'Blowing Snow',\n",
       "       'Early snowfall', 'Monthly Snowfall', 'Record Heat',\n",
       "       'Seasonal Snowfall', 'Monthly Rainfall', 'Cold Temperature',\n",
       "       'Sml Stream Fld', 'Heat Wave', 'MUDSLIDE/LANDSLIDE', 'Saharan Dust',\n",
       "       'Volcanic Ash', 'Volcanic Ash Plume', 'Thundersnow shower', 'NONE',\n",
       "       'COLD AND SNOW', 'DAM BREAK', 'TSTM WIND (G45)',\n",
       "       'SLEET/FREEZING RAIN', 'BLACK ICE', 'BLOW-OUT TIDES',\n",
       "       'UNSEASONABLY COOL', 'TSTM HEAVY RAIN', 'Gusty Winds', 'GUSTY WIND',\n",
       "       'TSTM WIND 40', 'TSTM WIND 45', 'TSTM WIND (41)', 'TSTM WIND (G40)',\n",
       "       'TSTM WND', 'Wintry mix', ' TSTM WIND', 'Frost', 'Frost/Freeze',\n",
       "       'RAIN (HEAVY)', 'Record Warmth', 'Prolong Cold', 'Cold and Frost',\n",
       "       'URBAN/SML STREAM FLDG', 'STRONG WIND GUST', 'LATE FREEZE',\n",
       "       'BLOW-OUT TIDE', 'Hypothermia/Exposure', 'HYPOTHERMIA/EXPOSURE',\n",
       "       'Lake Effect Snow', 'Mixed Precipitation', 'Record High',\n",
       "       'COASTALSTORM', 'Snow and sleet', 'Freezing rain', 'Gusty winds',\n",
       "       'Blizzard Summary', 'SUMMARY OF MARCH 24-25', 'SUMMARY OF MARCH 27',\n",
       "       'SUMMARY OF MARCH 29', 'GRADIENT WIND', 'Icestorm/Blizzard',\n",
       "       'Flood/Strong Wind', 'TSTM WIND AND LIGHTNING', 'gradient wind',\n",
       "       'Freezing drizzle', 'Mountain Snows', 'URBAN/SMALL STRM FLDG',\n",
       "       'Heavy surf and wind', 'Mild and Dry Pattern', 'COLD AND FROST',\n",
       "       'TYPHOON', 'HIGH SWELLS', 'HIGH  SWELLS', 'VOLCANIC ASH',\n",
       "       'DRY SPELL', ' LIGHTNING', 'BEACH EROSION', 'UNSEASONAL RAIN',\n",
       "       'EARLY RAIN', 'PROLONGED RAIN', 'WINTERY MIX',\n",
       "       'COASTAL FLOODING/EROSION', 'HOT SPELL', 'UNSEASONABLY HOT',\n",
       "       ' TSTM WIND (G45)', 'TSTM WIND  (G45)', 'HIGH WIND (G40)',\n",
       "       'TSTM WIND (G35)', 'DRY WEATHER', 'ABNORMAL WARMTH',\n",
       "       'UNUSUAL WARMTH', 'WAKE LOW WIND', 'MONTHLY RAINFALL',\n",
       "       'COLD TEMPERATURES', 'COLD WIND CHILL TEMPERATURES',\n",
       "       'MODERATE SNOW', 'MODERATE SNOWFALL', 'URBAN/STREET FLOODING',\n",
       "       'COASTAL EROSION', 'UNUSUAL/RECORD WARMTH', 'BITTER WIND CHILL',\n",
       "       'BITTER WIND CHILL TEMPERATURES', 'SEICHE', 'TSTM',\n",
       "       'COASTAL  FLOODING/EROSION', 'UNSEASONABLY WARM YEAR',\n",
       "       'HYPERTHERMIA/EXPOSURE', 'ROCK SLIDE', 'ICE PELLETS',\n",
       "       'PATCHY DENSE FOG', 'RECORD COOL', 'RECORD WARM', 'HOT WEATHER',\n",
       "       'RECORD TEMPERATURE', 'TROPICAL DEPRESSION', 'VOLCANIC ERUPTION',\n",
       "       'COOL SPELL', 'WIND ADVISORY', 'GUSTY WIND/HAIL',\n",
       "       'RED FLAG FIRE WX', 'FIRST FROST', 'EXCESSIVELY DRY',\n",
       "       'SNOW AND SLEET', 'LIGHT SNOW/FREEZING PRECIP', 'VOG',\n",
       "       'MONTHLY PRECIPITATION', 'MONTHLY TEMPERATURE', 'RECORD DRYNESS',\n",
       "       'EXTREME WINDCHILL TEMPERATURES', 'MIXED PRECIPITATION',\n",
       "       'DRY CONDITIONS', 'REMNANTS OF FLOYD', 'EARLY SNOWFALL',\n",
       "       'FREEZING FOG', 'LANDSPOUT', 'DRIEST MONTH', 'RECORD  COLD',\n",
       "       'LATE SEASON HAIL', 'EXCESSIVE SNOW', 'DRYNESS',\n",
       "       'FLOOD/FLASH/FLOOD', 'WIND AND WAVE', 'LIGHT FREEZING RAIN',\n",
       "       ' WIND', 'MONTHLY SNOWFALL', 'RECORD PRECIPITATION', 'ICE ROADS',\n",
       "       'ROUGH SEAS', 'UNSEASONABLY WARM/WET', 'UNSEASONABLY COOL & WET',\n",
       "       'UNUSUALLY WARM', 'TSTM WIND G45', 'NON SEVERE HAIL',\n",
       "       'NON-SEVERE WIND DAMAGE', 'UNUSUALLY COLD', 'WARM WEATHER',\n",
       "       'LANDSLUMP', 'THUNDERSTORM WIND (G40)', 'UNSEASONABLY WARM & WET',\n",
       "       ' FLASH FLOOD', 'LOCALLY HEAVY RAIN', 'WIND GUSTS',\n",
       "       'UNSEASONAL LOW TEMP', 'HIGH SURF ADVISORY', 'LATE SEASON SNOW',\n",
       "       'GUSTY LAKE WIND', 'ABNORMALLY DRY', 'WINTER WEATHER MIX',\n",
       "       'RED FLAG CRITERIA', 'WND', 'CSTL FLOODING/EROSION', 'SMOKE',\n",
       "       ' WATERSPOUT', 'SNOW ADVISORY', 'EXTREMELY WET',\n",
       "       'UNUSUALLY LATE SNOW', 'VERY DRY', 'RECORD LOW RAINFALL',\n",
       "       'ROGUE WAVE', 'PROLONG WARMTH', 'ACCUMULATED SNOWFALL',\n",
       "       'FALLING SNOW/ICE', 'DUST DEVEL', 'NON-TSTM WIND', 'NON TSTM WIND',\n",
       "       'GUSTY THUNDERSTORM WINDS', 'PATCHY ICE', 'HEAVY RAIN EFFECTS',\n",
       "       'EXCESSIVE HEAT/DROUGHT', 'NORTHERN LIGHTS', 'MARINE TSTM WIND',\n",
       "       '   HIGH SURF ADVISORY', 'HAZARDOUS SURF', 'FROST/FREEZE',\n",
       "       'WINTER WEATHER/MIX', 'ASTRONOMICAL HIGH TIDE', 'WHIRLWIND',\n",
       "       'VERY WARM', 'ABNORMALLY WET', 'TORNADO DEBRIS',\n",
       "       'EXTREME COLD/WIND CHILL', 'ICE ON ROAD', 'DROWNING',\n",
       "       'GUSTY THUNDERSTORM WIND', 'MARINE HAIL', 'HIGH SURF ADVISORIES',\n",
       "       'HURRICANE/TYPHOON', 'HEAVY SURF/HIGH SURF', 'SLEET STORM',\n",
       "       'STORM SURGE/TIDE', 'COLD/WIND CHILL', 'MARINE HIGH WIND',\n",
       "       'TSUNAMI', 'DENSE SMOKE', 'LAKESHORE FLOOD',\n",
       "       'MARINE THUNDERSTORM WIND', 'MARINE STRONG WIND',\n",
       "       'ASTRONOMICAL LOW TIDE', 'VOLCANIC ASHFALL'], dtype=object)"
      ]
     },
     "execution_count": 44,
     "metadata": {},
     "output_type": "execute_result"
    }
   ],
   "source": [
    "df.EVTYPE.unique()"
   ]
  },
  {
   "cell_type": "code",
   "execution_count": 57,
   "metadata": {
    "collapsed": false
   },
   "outputs": [
    {
     "data": {
      "text/html": [
       "<div>\n",
       "<table border=\"1\" class=\"dataframe\">\n",
       "  <thead>\n",
       "    <tr style=\"text-align: right;\">\n",
       "      <th></th>\n",
       "      <th>MAG</th>\n",
       "      <th>PROPDMG</th>\n",
       "    </tr>\n",
       "  </thead>\n",
       "  <tbody>\n",
       "    <tr>\n",
       "      <th>MAG</th>\n",
       "      <td>1.000000</td>\n",
       "      <td>-0.077232</td>\n",
       "    </tr>\n",
       "    <tr>\n",
       "      <th>PROPDMG</th>\n",
       "      <td>-0.077232</td>\n",
       "      <td>1.000000</td>\n",
       "    </tr>\n",
       "  </tbody>\n",
       "</table>\n",
       "</div>"
      ],
      "text/plain": [
       "              MAG   PROPDMG\n",
       "MAG      1.000000 -0.077232\n",
       "PROPDMG -0.077232  1.000000"
      ]
     },
     "execution_count": 57,
     "metadata": {},
     "output_type": "execute_result"
    }
   ],
   "source": [
    "df[['MAG', 'PROPDMG']].corr()"
   ]
  },
  {
   "cell_type": "code",
   "execution_count": 55,
   "metadata": {
    "collapsed": false
   },
   "outputs": [
    {
     "data": {
      "text/plain": [
       "REFNUM\n",
       "1.0         0.0\n",
       "2.0         0.0\n",
       "3.0         0.0\n",
       "           ... \n",
       "902295.0    0.0\n",
       "902296.0    0.0\n",
       "902297.0    0.0\n",
       "Name: FATALITIES, dtype: float64"
      ]
     },
     "execution_count": 55,
     "metadata": {},
     "output_type": "execute_result"
    }
   ],
   "source": [
    "df['FATALITIES']"
   ]
  },
  {
   "cell_type": "code",
   "execution_count": 58,
   "metadata": {
    "collapsed": false
   },
   "outputs": [
    {
     "data": {
      "text/plain": [
       "(902297, 36)"
      ]
     },
     "execution_count": 58,
     "metadata": {},
     "output_type": "execute_result"
    }
   ],
   "source": [
    "df.shape"
   ]
  },
  {
   "cell_type": "code",
   "execution_count": 59,
   "metadata": {
    "collapsed": false
   },
   "outputs": [
    {
     "data": {
      "text/plain": [
       "Index([u'STATE__', u'BGN_DATE', u'BGN_TIME', u'TIME_ZONE', u'COUNTY',\n",
       "       u'COUNTYNAME', u'STATE', u'EVTYPE', u'BGN_RANGE', u'BGN_AZI',\n",
       "       u'BGN_LOCATI', u'END_DATE', u'END_TIME', u'COUNTY_END', u'COUNTYENDN',\n",
       "       u'END_RANGE', u'END_AZI', u'END_LOCATI', u'LENGTH', u'WIDTH', u'F',\n",
       "       u'MAG', u'FATALITIES', u'INJURIES', u'PROPDMG', u'PROPDMGEXP',\n",
       "       u'CROPDMG', u'CROPDMGEXP', u'WFO', u'STATEOFFIC', u'ZONENAMES',\n",
       "       u'LATITUDE', u'LONGITUDE', u'LATITUDE_E', u'LONGITUDE_', u'REMARKS'],\n",
       "      dtype='object')"
      ]
     },
     "execution_count": 59,
     "metadata": {},
     "output_type": "execute_result"
    }
   ],
   "source": [
    "df.columns"
   ]
  },
  {
   "cell_type": "code",
   "execution_count": 62,
   "metadata": {
    "collapsed": false
   },
   "outputs": [
    {
     "data": {
      "text/plain": [
       "0"
      ]
     },
     "execution_count": 62,
     "metadata": {},
     "output_type": "execute_result"
    }
   ],
   "source": [
    "df.PROPDMG.isnull().sum()"
   ]
  },
  {
   "cell_type": "code",
   "execution_count": 65,
   "metadata": {
    "collapsed": false
   },
   "outputs": [
    {
     "data": {
      "text/plain": [
       "436363"
      ]
     },
     "execution_count": 65,
     "metadata": {},
     "output_type": "execute_result"
    }
   ],
   "source": [
    "df.PROPDMGEXP.notnull().sum()"
   ]
  },
  {
   "cell_type": "code",
   "execution_count": 69,
   "metadata": {
    "collapsed": false
   },
   "outputs": [
    {
     "data": {
      "text/html": [
       "<div>\n",
       "<table border=\"1\" class=\"dataframe\">\n",
       "  <thead>\n",
       "    <tr style=\"text-align: right;\">\n",
       "      <th></th>\n",
       "      <th>STATE__</th>\n",
       "      <th>BGN_DATE</th>\n",
       "      <th>BGN_TIME</th>\n",
       "      <th>TIME_ZONE</th>\n",
       "      <th>COUNTY</th>\n",
       "      <th>...</th>\n",
       "      <th>LATITUDE</th>\n",
       "      <th>LONGITUDE</th>\n",
       "      <th>LATITUDE_E</th>\n",
       "      <th>LONGITUDE_</th>\n",
       "      <th>REMARKS</th>\n",
       "    </tr>\n",
       "    <tr>\n",
       "      <th>REFNUM</th>\n",
       "      <th></th>\n",
       "      <th></th>\n",
       "      <th></th>\n",
       "      <th></th>\n",
       "      <th></th>\n",
       "      <th></th>\n",
       "      <th></th>\n",
       "      <th></th>\n",
       "      <th></th>\n",
       "      <th></th>\n",
       "      <th></th>\n",
       "    </tr>\n",
       "  </thead>\n",
       "  <tbody>\n",
       "    <tr>\n",
       "      <th>1.0</th>\n",
       "      <td>1.0</td>\n",
       "      <td>4/18/1950 0:00:00</td>\n",
       "      <td>130</td>\n",
       "      <td>CST</td>\n",
       "      <td>97.0</td>\n",
       "      <td>...</td>\n",
       "      <td>3040.0</td>\n",
       "      <td>8812.0</td>\n",
       "      <td>3051.0</td>\n",
       "      <td>8806.0</td>\n",
       "      <td>NaN</td>\n",
       "    </tr>\n",
       "    <tr>\n",
       "      <th>2.0</th>\n",
       "      <td>1.0</td>\n",
       "      <td>4/18/1950 0:00:00</td>\n",
       "      <td>145</td>\n",
       "      <td>CST</td>\n",
       "      <td>3.0</td>\n",
       "      <td>...</td>\n",
       "      <td>3042.0</td>\n",
       "      <td>8755.0</td>\n",
       "      <td>0.0</td>\n",
       "      <td>0.0</td>\n",
       "      <td>NaN</td>\n",
       "    </tr>\n",
       "    <tr>\n",
       "      <th>3.0</th>\n",
       "      <td>1.0</td>\n",
       "      <td>2/20/1951 0:00:00</td>\n",
       "      <td>1600</td>\n",
       "      <td>CST</td>\n",
       "      <td>57.0</td>\n",
       "      <td>...</td>\n",
       "      <td>3340.0</td>\n",
       "      <td>8742.0</td>\n",
       "      <td>0.0</td>\n",
       "      <td>0.0</td>\n",
       "      <td>NaN</td>\n",
       "    </tr>\n",
       "    <tr>\n",
       "      <th>...</th>\n",
       "      <td>...</td>\n",
       "      <td>...</td>\n",
       "      <td>...</td>\n",
       "      <td>...</td>\n",
       "      <td>...</td>\n",
       "      <td>...</td>\n",
       "      <td>...</td>\n",
       "      <td>...</td>\n",
       "      <td>...</td>\n",
       "      <td>...</td>\n",
       "      <td>...</td>\n",
       "    </tr>\n",
       "    <tr>\n",
       "      <th>902295.0</th>\n",
       "      <td>2.0</td>\n",
       "      <td>11/8/2011 0:00:00</td>\n",
       "      <td>02:58:00 PM</td>\n",
       "      <td>AKS</td>\n",
       "      <td>213.0</td>\n",
       "      <td>...</td>\n",
       "      <td>0.0</td>\n",
       "      <td>0.0</td>\n",
       "      <td>0.0</td>\n",
       "      <td>0.0</td>\n",
       "      <td>EPISODE NARRATIVE: A 960 mb low over the south...</td>\n",
       "    </tr>\n",
       "    <tr>\n",
       "      <th>902296.0</th>\n",
       "      <td>2.0</td>\n",
       "      <td>11/9/2011 0:00:00</td>\n",
       "      <td>10:21:00 AM</td>\n",
       "      <td>AKS</td>\n",
       "      <td>202.0</td>\n",
       "      <td>...</td>\n",
       "      <td>0.0</td>\n",
       "      <td>0.0</td>\n",
       "      <td>0.0</td>\n",
       "      <td>0.0</td>\n",
       "      <td>EPISODE NARRATIVE: A 960 mb low over the south...</td>\n",
       "    </tr>\n",
       "    <tr>\n",
       "      <th>902297.0</th>\n",
       "      <td>1.0</td>\n",
       "      <td>11/28/2011 0:00:00</td>\n",
       "      <td>08:00:00 PM</td>\n",
       "      <td>CST</td>\n",
       "      <td>6.0</td>\n",
       "      <td>...</td>\n",
       "      <td>0.0</td>\n",
       "      <td>0.0</td>\n",
       "      <td>0.0</td>\n",
       "      <td>0.0</td>\n",
       "      <td>EPISODE NARRATIVE: An intense upper level low ...</td>\n",
       "    </tr>\n",
       "  </tbody>\n",
       "</table>\n",
       "<p>447909 rows × 36 columns</p>\n",
       "</div>"
      ],
      "text/plain": [
       "          STATE__            BGN_DATE     BGN_TIME TIME_ZONE  COUNTY  \\\n",
       "REFNUM                                                                 \n",
       "1.0           1.0   4/18/1950 0:00:00          130       CST    97.0   \n",
       "2.0           1.0   4/18/1950 0:00:00          145       CST     3.0   \n",
       "3.0           1.0   2/20/1951 0:00:00         1600       CST    57.0   \n",
       "...           ...                 ...          ...       ...     ...   \n",
       "902295.0      2.0   11/8/2011 0:00:00  02:58:00 PM       AKS   213.0   \n",
       "902296.0      2.0   11/9/2011 0:00:00  10:21:00 AM       AKS   202.0   \n",
       "902297.0      1.0  11/28/2011 0:00:00  08:00:00 PM       CST     6.0   \n",
       "\n",
       "                                ...                         LATITUDE  \\\n",
       "REFNUM                          ...                                    \n",
       "1.0                             ...                           3040.0   \n",
       "2.0                             ...                           3042.0   \n",
       "3.0                             ...                           3340.0   \n",
       "...                             ...                              ...   \n",
       "902295.0                        ...                              0.0   \n",
       "902296.0                        ...                              0.0   \n",
       "902297.0                        ...                              0.0   \n",
       "\n",
       "         LONGITUDE LATITUDE_E  LONGITUDE_  \\\n",
       "REFNUM                                      \n",
       "1.0         8812.0     3051.0      8806.0   \n",
       "2.0         8755.0        0.0         0.0   \n",
       "3.0         8742.0        0.0         0.0   \n",
       "...            ...        ...         ...   \n",
       "902295.0       0.0        0.0         0.0   \n",
       "902296.0       0.0        0.0         0.0   \n",
       "902297.0       0.0        0.0         0.0   \n",
       "\n",
       "                                                    REMARKS  \n",
       "REFNUM                                                       \n",
       "1.0                                                     NaN  \n",
       "2.0                                                     NaN  \n",
       "3.0                                                     NaN  \n",
       "...                                                     ...  \n",
       "902295.0  EPISODE NARRATIVE: A 960 mb low over the south...  \n",
       "902296.0  EPISODE NARRATIVE: A 960 mb low over the south...  \n",
       "902297.0  EPISODE NARRATIVE: An intense upper level low ...  \n",
       "\n",
       "[447909 rows x 36 columns]"
      ]
     },
     "execution_count": 69,
     "metadata": {},
     "output_type": "execute_result"
    }
   ],
   "source": [
    "df = df[(df.FATALITIES > 0) | (df.INJURIES > 0) | df.PROPDMGEXP.notnull() | df.CROPDMGEXP.notnull()]\n",
    "\n",
    "df"
   ]
  },
  {
   "cell_type": "code",
   "execution_count": 74,
   "metadata": {
    "collapsed": false
   },
   "outputs": [
    {
     "data": {
      "text/plain": [
       "447"
      ]
     },
     "execution_count": 74,
     "metadata": {},
     "output_type": "execute_result"
    }
   ],
   "source": [
    "len(df.EVTYPE.unique())"
   ]
  },
  {
   "cell_type": "code",
   "execution_count": 72,
   "metadata": {
    "collapsed": false
   },
   "outputs": [
    {
     "data": {
      "text/plain": [
       "247"
      ]
     },
     "execution_count": 72,
     "metadata": {},
     "output_type": "execute_result"
    }
   ],
   "source": [
    "(df.EVTYPE.value_counts() ==1).sum()"
   ]
  },
  {
   "cell_type": "code",
   "execution_count": 73,
   "metadata": {
    "collapsed": true
   },
   "outputs": [],
   "source": [
    "df['EVTYPE'] = df.EVTYPE.apply(lambda type: type.strip().upper())"
   ]
  },
  {
   "cell_type": "code",
   "execution_count": 75,
   "metadata": {
    "collapsed": false
   },
   "outputs": [
    {
     "data": {
      "text/plain": [
       "224"
      ]
     },
     "execution_count": 75,
     "metadata": {},
     "output_type": "execute_result"
    }
   ],
   "source": [
    "(df.EVTYPE.value_counts() ==1).sum()"
   ]
  },
  {
   "cell_type": "code",
   "execution_count": 76,
   "metadata": {
    "collapsed": true
   },
   "outputs": [],
   "source": [
    "df['EVTYPE'] = df.EVTYPE.apply(lambda type: type.strip().upper())\n",
    "\n",
    "official_event_types = [\n",
    "   'Astronomical Low Tide', 'Avalanche',\n",
    "   'Blizzard', 'Coastal Flood', 'Cold/Wind Chill', 'Debris Flow',\n",
    "   'Dense Fog', 'Dense Smoke', 'Drought', 'Dust Devil', 'Dust Storm',\n",
    "   'Excessive Heat', 'Extreme Cold/Wind Chill', 'Flash Flood', 'Flood',\n",
    "   'Frost/Freeze', 'Funnel Cloud', 'Freezing Fog', 'Hail', 'Heat',\n",
    "   'Heavy Rain', 'Heavy Snow', 'High Surf', 'High Wind',\n",
    "   'Hurricane (Typhoon)', 'Ice Storm', 'Lake-Effect Snow',\n",
    "   'Lakeshore Flood', 'Lightning', 'Marine Hail', 'Marine High Wind',\n",
    "   'Marine Strong Wind', 'Marine Thunderstorm Wind', 'Rip Current',\n",
    "   'Seiche', 'Sleet', 'Storm Surge/Tide', 'Strong Wind',\n",
    "   'Thunderstorm Wind', 'Tornado', 'Tropical Depression',\n",
    "   'Tropical Storm', 'Tsunami', 'Volcanic Ash', 'Waterspout', 'Wildfire',\n",
    "   'Winter Storm', 'Winter Weather',\n",
    "\n",
    "   # We are also adding 'OTHER'...\n",
    "   'OTHER'\n",
    "]\n",
    "\n",
    "official_event_types = map(lambda type: type.upper(), official_event_types)"
   ]
  },
  {
   "cell_type": "code",
   "execution_count": 77,
   "metadata": {
    "collapsed": false
   },
   "outputs": [
    {
     "data": {
      "text/plain": [
       "49"
      ]
     },
     "execution_count": 77,
     "metadata": {},
     "output_type": "execute_result"
    }
   ],
   "source": [
    "len(official_event_types)"
   ]
  },
  {
   "cell_type": "code",
   "execution_count": 78,
   "metadata": {
    "collapsed": false
   },
   "outputs": [
    {
     "data": {
      "text/plain": [
       "['ASTRONOMICAL LOW TIDE',\n",
       " 'AVALANCHE',\n",
       " 'BLIZZARD',\n",
       " 'COASTAL FLOOD',\n",
       " 'COLD/WIND CHILL',\n",
       " 'DEBRIS FLOW',\n",
       " 'DENSE FOG',\n",
       " 'DENSE SMOKE',\n",
       " 'DROUGHT',\n",
       " 'DUST DEVIL',\n",
       " 'DUST STORM',\n",
       " 'EXCESSIVE HEAT',\n",
       " 'EXTREME COLD/WIND CHILL',\n",
       " 'FLASH FLOOD',\n",
       " 'FLOOD',\n",
       " 'FROST/FREEZE',\n",
       " 'FUNNEL CLOUD',\n",
       " 'FREEZING FOG',\n",
       " 'HAIL',\n",
       " 'HEAT',\n",
       " 'HEAVY RAIN',\n",
       " 'HEAVY SNOW',\n",
       " 'HIGH SURF',\n",
       " 'HIGH WIND',\n",
       " 'HURRICANE (TYPHOON)',\n",
       " 'ICE STORM',\n",
       " 'LAKE-EFFECT SNOW',\n",
       " 'LAKESHORE FLOOD',\n",
       " 'LIGHTNING',\n",
       " 'MARINE HAIL',\n",
       " 'MARINE HIGH WIND',\n",
       " 'MARINE STRONG WIND',\n",
       " 'MARINE THUNDERSTORM WIND',\n",
       " 'RIP CURRENT',\n",
       " 'SEICHE',\n",
       " 'SLEET',\n",
       " 'STORM SURGE/TIDE',\n",
       " 'STRONG WIND',\n",
       " 'THUNDERSTORM WIND',\n",
       " 'TORNADO',\n",
       " 'TROPICAL DEPRESSION',\n",
       " 'TROPICAL STORM',\n",
       " 'TSUNAMI',\n",
       " 'VOLCANIC ASH',\n",
       " 'WATERSPOUT',\n",
       " 'WILDFIRE',\n",
       " 'WINTER STORM',\n",
       " 'WINTER WEATHER',\n",
       " 'OTHER']"
      ]
     },
     "execution_count": 78,
     "metadata": {},
     "output_type": "execute_result"
    }
   ],
   "source": [
    "official_event_types"
   ]
  },
  {
   "cell_type": "code",
   "execution_count": 82,
   "metadata": {
    "collapsed": false
   },
   "outputs": [
    {
     "data": {
      "text/plain": [
       "0.8114550053693942"
      ]
     },
     "execution_count": 82,
     "metadata": {},
     "output_type": "execute_result"
    }
   ],
   "source": [
    "1. * df.EVTYPE.isin(official_event_types).sum() / len(df)"
   ]
  },
  {
   "cell_type": "code",
   "execution_count": 84,
   "metadata": {
    "collapsed": false
   },
   "outputs": [],
   "source": [
    "subset_df = df[df.EVTYPE.isin(official_event_types)]"
   ]
  },
  {
   "cell_type": "code",
   "execution_count": 86,
   "metadata": {
    "collapsed": true
   },
   "outputs": [],
   "source": [
    "todo_df = df[~ df.index.isin(subset_df.index)]"
   ]
  },
  {
   "cell_type": "code",
   "execution_count": 87,
   "metadata": {
    "collapsed": false
   },
   "outputs": [
    {
     "data": {
      "text/plain": [
       "TSTM WIND               65591\n",
       "THUNDERSTORM WINDS      12080\n",
       "URBAN/SML STREAM FLD      754\n",
       "                        ...  \n",
       "COASTAL SURGE               1\n",
       "LIGHTNING INJURY            1\n",
       "TUNDERSTORM WIND            1\n",
       "Name: EVTYPE, dtype: int64"
      ]
     },
     "execution_count": 87,
     "metadata": {},
     "output_type": "execute_result"
    }
   ],
   "source": [
    "todo_df.EVTYPE.value_counts()"
   ]
  },
  {
   "cell_type": "code",
   "execution_count": 88,
   "metadata": {
    "collapsed": true
   },
   "outputs": [],
   "source": [
    "unrecognized_event_types_to_recognized_event_types = {\n",
    "   'COLD': 'COLD/WIND CHILL',\n",
    "   'COLD AND SNOW': 'COLD/WIND CHILL',\n",
    "   'COLD WEATHER': 'COLD/WIND CHILL',\n",
    "   'EXTREME COLD': 'EXTREME COLD/WIND CHILL',\n",
    "   'EXTREME HEAT': 'EXCESSIVE HEAT',\n",
    "   'EXTREME WINDCHILL': 'EXTREME COLD/WIND CHILL',\n",
    "   'FLASH FLOOD/FLOOD': 'FLASH FLOOD',\n",
    "   'FLASH FLOODING': 'FLASH FLOOD',\n",
    "   'FLASH FLOODING/FLOOD': 'FLASH FLOOD',\n",
    "   'FLOOD/FLASH FLOOD': 'FLASH FLOOD',\n",
    "   'FLOODING': 'FLOOD',\n",
    "   'FOG': 'DENSE FOG',\n",
    "   'FREEZE': 'FROST/FREEZE',\n",
    "   'FREEZING RAIN': 'HEAVY RAIN',\n",
    "   'GLAZE': 'OTHER',\n",
    "   'HEAT WAVE': 'HEAT',\n",
    "   'HEAT WAVES': 'HEAT',\n",
    "   'HEAVY RAIN/SEVERE WEATHER': 'HEAVY RAIN',\n",
    "   'HEAVY SURF': 'HIGH SURF',\n",
    "   'HEAVY SURF/HIGH SURF': 'HIGH SURF',\n",
    "   'HIGH SEAS': 'OTHER',\n",
    "   'HIGH WINDS': 'HIGH WIND',\n",
    "   'HURRICANE': 'HURRICANE (TYPHOON)',\n",
    "   'HURRICANE ERIN': 'HURRICANE (TYPHOON)',\n",
    "   'HURRICANE OPAL': 'HURRICANE (TYPHOON)',\n",
    "   'HURRICANE/TYPHOON': 'HURRICANE (TYPHOON)',\n",
    "   'HYPOTHERMIA/EXPOSURE': 'OTHER',\n",
    "   'ICE': 'ICE STORM',\n",
    "   'ICY ROADS': 'OTHER',\n",
    "   'LANDSLIDE': 'OTHER',\n",
    "   'LOW TEMPERATURE': 'COLD/WIND CHILL',\n",
    "   'MARINE MISHAP': 'MARINE HAIL',\n",
    "   'MARINE TSTM WIND': 'MARINE THUNDERSTORM WIND RIP CURRENT',\n",
    "   'RECORD/EXCESSIVE HEAT': 'EXCESSIVE HEAT',\n",
    "   'RIP CURRENTS': 'MARINE THUNDERSTORM WIND RIP CURRENT',\n",
    "   'RIVER FLOOD': 'FLOOD',\n",
    "   'ROUGH SEAS': 'MARINE STRONG WIND',\n",
    "   'SEVERE THUNDERSTORM': 'THUNDERSTORM WIND',\n",
    "   'STORM SURGE': 'STORM SURGE/TIDE',\n",
    "   'STRONG WINDS': 'STRONG WIND',\n",
    "   'THUNDERSTORM WINDS': 'THUNDERSTORM WIND',\n",
    "   'TORNADOES, TSTM WIND, HAIL': 'TORNADO',\n",
    "   'TROPICAL STORM GORDON': 'TROPICAL STORM',\n",
    "   'TSTM WIND': 'THUNDERSTORM WIND',\n",
    "   'TSTM WIND/HAIL': 'THUNDERSTORM WIND',\n",
    "   'TYPHOON': 'HURRICANE (TYPHOON)',\n",
    "   'UNSEASONABLY WARM': 'OTHER',\n",
    "   'UNSEASONABLY WARM AND DRY': 'OTHER',\n",
    "   'URBAN/SML STREAM FLD': 'FLOOD',\n",
    "   'WILD FIRES': 'WILDFIRE',\n",
    "   'WILD/FOREST FIRE': 'WILDFIRE',\n",
    "   'WIND': 'HIGH WIND',\n",
    "   'WINTER STORMS': 'WINTER STORM',\n",
    "   'WINTER WEATHER/MIX': 'WINTER WEATHER'\n",
    "}"
   ]
  },
  {
   "cell_type": "code",
   "execution_count": 91,
   "metadata": {
    "collapsed": true
   },
   "outputs": [],
   "source": [
    "def event_type(event_type):\n",
    "   if event_type in official_event_types:\n",
    "       return event_type\n",
    "\n",
    "   if event_type in unrecognized_event_types_to_recognized_event_types:\n",
    "       return unrecognized_event_types_to_recognized_event_types[event_type]\n",
    "\n",
    "   return 'OTHER'"
   ]
  },
  {
   "cell_type": "code",
   "execution_count": 93,
   "metadata": {
    "collapsed": false
   },
   "outputs": [
    {
     "data": {
      "text/plain": [
       "REFNUM\n",
       "1.0            TORNADO\n",
       "2.0            TORNADO\n",
       "3.0            TORNADO\n",
       "               ...    \n",
       "902295.0     HIGH WIND\n",
       "902296.0      BLIZZARD\n",
       "902297.0    HEAVY SNOW\n",
       "Name: EVTYPE, dtype: object"
      ]
     },
     "execution_count": 93,
     "metadata": {},
     "output_type": "execute_result"
    }
   ],
   "source": [
    "df.EVTYPE.apply(event_type)"
   ]
  },
  {
   "cell_type": "code",
   "execution_count": 94,
   "metadata": {
    "collapsed": true
   },
   "outputs": [],
   "source": [
    "df['EVTYPE'] = df.EVTYPE.apply(event_type)"
   ]
  },
  {
   "cell_type": "code",
   "execution_count": 95,
   "metadata": {
    "collapsed": false
   },
   "outputs": [
    {
     "data": {
      "text/plain": [
       "1.0"
      ]
     },
     "execution_count": 95,
     "metadata": {},
     "output_type": "execute_result"
    }
   ],
   "source": [
    "1. * df.EVTYPE.isin(official_event_types).sum() / len(df)"
   ]
  },
  {
   "cell_type": "code",
   "execution_count": 96,
   "metadata": {
    "collapsed": false
   },
   "outputs": [
    {
     "data": {
      "text/plain": [
       "Index([u'STATE__', u'BGN_DATE', u'BGN_TIME', u'TIME_ZONE', u'COUNTY',\n",
       "       u'COUNTYNAME', u'STATE', u'EVTYPE', u'BGN_RANGE', u'BGN_AZI',\n",
       "       u'BGN_LOCATI', u'END_DATE', u'END_TIME', u'COUNTY_END', u'COUNTYENDN',\n",
       "       u'END_RANGE', u'END_AZI', u'END_LOCATI', u'LENGTH', u'WIDTH', u'F',\n",
       "       u'MAG', u'FATALITIES', u'INJURIES', u'PROPDMG', u'PROPDMGEXP',\n",
       "       u'CROPDMG', u'CROPDMGEXP', u'WFO', u'STATEOFFIC', u'ZONENAMES',\n",
       "       u'LATITUDE', u'LONGITUDE', u'LATITUDE_E', u'LONGITUDE_', u'REMARKS'],\n",
       "      dtype='object')"
      ]
     },
     "execution_count": 96,
     "metadata": {},
     "output_type": "execute_result"
    }
   ],
   "source": [
    "df.columns"
   ]
  },
  {
   "cell_type": "code",
   "execution_count": 98,
   "metadata": {
    "collapsed": false
   },
   "outputs": [
    {
     "data": {
      "text/plain": [
       "0"
      ]
     },
     "execution_count": 98,
     "metadata": {},
     "output_type": "execute_result"
    }
   ],
   "source": [
    "df.FATALITIES.isnull().sum()"
   ]
  },
  {
   "cell_type": "code",
   "execution_count": 99,
   "metadata": {
    "collapsed": false
   },
   "outputs": [
    {
     "data": {
      "text/plain": [
       "0"
      ]
     },
     "execution_count": 99,
     "metadata": {},
     "output_type": "execute_result"
    }
   ],
   "source": [
    "df.INJURIES.isnull().sum()"
   ]
  },
  {
   "cell_type": "code",
   "execution_count": 100,
   "metadata": {
    "collapsed": false
   },
   "outputs": [
    {
     "data": {
      "text/plain": [
       "REFNUM\n",
       "1.0         25.0\n",
       "2.0          2.5\n",
       "3.0         25.0\n",
       "            ... \n",
       "902295.0     0.0\n",
       "902296.0     0.0\n",
       "902297.0     0.0\n",
       "Name: PROPDMG, dtype: float64"
      ]
     },
     "execution_count": 100,
     "metadata": {},
     "output_type": "execute_result"
    }
   ],
   "source": [
    "df.PROPDMG"
   ]
  },
  {
   "cell_type": "code",
   "execution_count": 110,
   "metadata": {
    "collapsed": false
   },
   "outputs": [
    {
     "data": {
      "text/plain": [
       "0.00      208804\n",
       "5.00       32644\n",
       "10.00      22010\n",
       "           ...  \n",
       "100.03         1\n",
       "13.47          1\n",
       "379.90         1\n",
       "Name: PROPDMG, dtype: int64"
      ]
     },
     "execution_count": 110,
     "metadata": {},
     "output_type": "execute_result"
    }
   ],
   "source": [
    "df.PROPDMG.value_counts()"
   ]
  },
  {
   "cell_type": "code",
   "execution_count": 119,
   "metadata": {
    "collapsed": false
   },
   "outputs": [
    {
     "data": {
      "text/plain": [
       "<matplotlib.axes._subplots.AxesSubplot at 0x12e878710>"
      ]
     },
     "execution_count": 119,
     "metadata": {},
     "output_type": "execute_result"
    },
    {
     "data": {
      "image/png": "[encoded data removed]",
      "text/plain": [
       "<matplotlib.figure.Figure at 0x1266a3cd0>"
      ]
     },
     "metadata": {},
     "output_type": "display_data"
    }
   ],
   "source": [
    "df[['PROPDMG']].plot(kind = 'box', figsize = (8,8))"
   ]
  },
  {
   "cell_type": "code",
   "execution_count": 118,
   "metadata": {
    "collapsed": false
   },
   "outputs": [
    {
     "data": {
      "text/html": [
       "<div>\n",
       "<table border=\"1\" class=\"dataframe\">\n",
       "  <thead>\n",
       "    <tr style=\"text-align: right;\">\n",
       "      <th></th>\n",
       "      <th>PROPDMG</th>\n",
       "    </tr>\n",
       "    <tr>\n",
       "      <th>REFNUM</th>\n",
       "      <th></th>\n",
       "    </tr>\n",
       "  </thead>\n",
       "  <tbody>\n",
       "    <tr>\n",
       "      <th>1.0</th>\n",
       "      <td>25.0</td>\n",
       "    </tr>\n",
       "    <tr>\n",
       "      <th>2.0</th>\n",
       "      <td>2.5</td>\n",
       "    </tr>\n",
       "    <tr>\n",
       "      <th>3.0</th>\n",
       "      <td>25.0</td>\n",
       "    </tr>\n",
       "    <tr>\n",
       "      <th>...</th>\n",
       "      <td>...</td>\n",
       "    </tr>\n",
       "    <tr>\n",
       "      <th>902295.0</th>\n",
       "      <td>0.0</td>\n",
       "    </tr>\n",
       "    <tr>\n",
       "      <th>902296.0</th>\n",
       "      <td>0.0</td>\n",
       "    </tr>\n",
       "    <tr>\n",
       "      <th>902297.0</th>\n",
       "      <td>0.0</td>\n",
       "    </tr>\n",
       "  </tbody>\n",
       "</table>\n",
       "<p>447909 rows × 1 columns</p>\n",
       "</div>"
      ],
      "text/plain": [
       "          PROPDMG\n",
       "REFNUM           \n",
       "1.0          25.0\n",
       "2.0           2.5\n",
       "3.0          25.0\n",
       "...           ...\n",
       "902295.0      0.0\n",
       "902296.0      0.0\n",
       "902297.0      0.0\n",
       "\n",
       "[447909 rows x 1 columns]"
      ]
     },
     "execution_count": 118,
     "metadata": {},
     "output_type": "execute_result"
    }
   ],
   "source": [
    "df[['PROPDMG']]"
   ]
  },
  {
   "cell_type": "code",
   "execution_count": 121,
   "metadata": {
    "collapsed": false
   },
   "outputs": [
    {
     "data": {
      "text/plain": [
       "array(['K', 'M', nan, 'B', 'm', '+', '0', '5', '6', '?', '4', '2', '3',\n",
       "       'h', '7', 'H', '-', '1', '8'], dtype=object)"
      ]
     },
     "execution_count": 121,
     "metadata": {},
     "output_type": "execute_result"
    }
   ],
   "source": [
    "df.PROPDMGEXP.unique()"
   ]
  },
  {
   "cell_type": "code",
   "execution_count": 122,
   "metadata": {
    "collapsed": false
   },
   "outputs": [
    {
     "data": {
      "text/plain": [
       "1"
      ]
     },
     "execution_count": 122,
     "metadata": {},
     "output_type": "execute_result"
    }
   ],
   "source": [
    "(df.PROPDMGEXP == '-').sum()"
   ]
  },
  {
   "cell_type": "code",
   "execution_count": 123,
   "metadata": {
    "collapsed": true
   },
   "outputs": [],
   "source": [
    "exponent_to_multiplier = {np.nan: np.nan, '+': np.nan, '-': np.nan, '?': np.nan,\n",
    "   '0': 10 ** 0,\n",
    "   '1': 10 ** 1,\n",
    "   '2': 10 ** 2, 'H': 10 ** 2, 'h': 10 ** 2,\n",
    "   '3': 10 ** 3,'K': 10 ** 3,'k': 10 ** 3,\n",
    "   '4': 10 ** 4,\n",
    "   '5': 10 ** 5,\n",
    "   '6': 10 ** 6, 'M': 10 ** 6, 'm': 10 ** 6,\n",
    "   '7': 10 ** 7,\n",
    "   '8': 10 ** 8,\n",
    "   'B': 10 ** 9}"
   ]
  },
  {
   "cell_type": "code",
   "execution_count": 124,
   "metadata": {
    "collapsed": true
   },
   "outputs": [],
   "source": [
    "df.PROPDMG = df.PROPDMG * df.PROPDMGEXP.map(exponent_to_multiplier)"
   ]
  },
  {
   "cell_type": "code",
   "execution_count": null,
   "metadata": {
    "collapsed": true
   },
   "outputs": [],
   "source": []
  },
  {
   "cell_type": "code",
   "execution_count": null,
   "metadata": {
    "collapsed": true
   },
   "outputs": [],
   "source": []
  }
 ],
 "metadata": {
  "anaconda-cloud": {},
  "kernelspec": {
   "display_name": "Python [Root]",
   "language": "python",
   "name": "Python [Root]"
  },
  "language_info": {
   "codemirror_mode": {
    "name": "ipython",
    "version": 2
   },
   "file_extension": ".py",
   "mimetype": "text/x-python",
   "name": "python",
   "nbconvert_exporter": "python",
   "pygments_lexer": "ipython2",
   "version": "2.7.12"
  }
 },
 "nbformat": 4,
 "nbformat_minor": 0
}
